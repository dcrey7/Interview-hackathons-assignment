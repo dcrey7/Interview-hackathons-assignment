{
 "cells": [
  {
   "cell_type": "code",
   "execution_count": 14,
   "id": "68f8f833",
   "metadata": {},
   "outputs": [],
   "source": [
    "import pandas as pd\n",
    "import numpy as np\n",
    "import matplotlib.pyplot as plt\n",
    "%matplotlib inline\n",
    "import seaborn as sns\n",
    "import os\n",
    "pd.set_option('display.max_rows',500)\n",
    "pd.set_option('display.max_columns',500)"
   ]
  },
  {
   "cell_type": "code",
   "execution_count": 15,
   "id": "c749010c",
   "metadata": {},
   "outputs": [
    {
     "data": {
      "text/plain": [
       "'C:\\\\Users\\\\AbhishekThomas\\\\Downloads'"
      ]
     },
     "execution_count": 15,
     "metadata": {},
     "output_type": "execute_result"
    }
   ],
   "source": [
    "pwd"
   ]
  },
  {
   "cell_type": "code",
   "execution_count": 16,
   "id": "d2e5feae",
   "metadata": {},
   "outputs": [],
   "source": [
    "os.chdir(r'C:\\\\Users\\\\AbhishekThomas\\\\Downloads')"
   ]
  },
  {
   "cell_type": "code",
   "execution_count": 17,
   "id": "4668c548",
   "metadata": {},
   "outputs": [
    {
     "data": {
      "text/html": [
       "<div>\n",
       "<style scoped>\n",
       "    .dataframe tbody tr th:only-of-type {\n",
       "        vertical-align: middle;\n",
       "    }\n",
       "\n",
       "    .dataframe tbody tr th {\n",
       "        vertical-align: top;\n",
       "    }\n",
       "\n",
       "    .dataframe thead th {\n",
       "        text-align: right;\n",
       "    }\n",
       "</style>\n",
       "<table border=\"1\" class=\"dataframe\">\n",
       "  <thead>\n",
       "    <tr style=\"text-align: right;\">\n",
       "      <th></th>\n",
       "      <th>ID</th>\n",
       "      <th>Asst_Reg</th>\n",
       "      <th>GGGrade</th>\n",
       "      <th>Experience</th>\n",
       "      <th>Validation</th>\n",
       "      <th>Yearly Income</th>\n",
       "      <th>Home Status</th>\n",
       "      <th>Unpaid 2 years</th>\n",
       "      <th>Already Defaulted</th>\n",
       "      <th>Designation</th>\n",
       "      <th>Debt to Income</th>\n",
       "      <th>Postal Code</th>\n",
       "      <th>Lend Amount</th>\n",
       "      <th>Deprecatory Records</th>\n",
       "      <th>Interest Charged</th>\n",
       "      <th>Usage Rate</th>\n",
       "      <th>Inquiries</th>\n",
       "      <th>Present Balance</th>\n",
       "      <th>Gross Collection</th>\n",
       "      <th>Sub GGGrade</th>\n",
       "      <th>File Status</th>\n",
       "      <th>State</th>\n",
       "      <th>Account Open</th>\n",
       "      <th>Total Unpaid CL</th>\n",
       "      <th>Duration</th>\n",
       "      <th>Unpaid Amount</th>\n",
       "      <th>Reason</th>\n",
       "      <th>Claim Type</th>\n",
       "      <th>Due Fee</th>\n",
       "      <th>Loan/No Loan</th>\n",
       "    </tr>\n",
       "  </thead>\n",
       "  <tbody>\n",
       "    <tr>\n",
       "      <th>0</th>\n",
       "      <td>95074</td>\n",
       "      <td>421802</td>\n",
       "      <td>II</td>\n",
       "      <td>&gt;10yrs</td>\n",
       "      <td>Vfied</td>\n",
       "      <td>633600.00</td>\n",
       "      <td>MOR??AGE</td>\n",
       "      <td>0</td>\n",
       "      <td>0</td>\n",
       "      <td>GLENDALE NISSAN</td>\n",
       "      <td>12.5496</td>\n",
       "      <td>91300.0</td>\n",
       "      <td>42023.25</td>\n",
       "      <td>0</td>\n",
       "      <td>15.39</td>\n",
       "      <td>88.924</td>\n",
       "      <td>3</td>\n",
       "      <td>607161.90</td>\n",
       "      <td>0.0</td>\n",
       "      <td>19</td>\n",
       "      <td>fully paid</td>\n",
       "      <td>California</td>\n",
       "      <td>17</td>\n",
       "      <td>58598.0</td>\n",
       "      <td>3 years</td>\n",
       "      <td>31216.05</td>\n",
       "      <td>debt  consolidation</td>\n",
       "      <td>I</td>\n",
       "      <td>0.0</td>\n",
       "      <td>0</td>\n",
       "    </tr>\n",
       "    <tr>\n",
       "      <th>1</th>\n",
       "      <td>134131</td>\n",
       "      <td>3964312</td>\n",
       "      <td>IV</td>\n",
       "      <td>7yrs</td>\n",
       "      <td>Source Verified</td>\n",
       "      <td>85483.20</td>\n",
       "      <td>REN?</td>\n",
       "      <td>0</td>\n",
       "      <td>0</td>\n",
       "      <td>Business Teacher</td>\n",
       "      <td>9.0048</td>\n",
       "      <td>27400.0</td>\n",
       "      <td>38133.00</td>\n",
       "      <td>0</td>\n",
       "      <td>9.94</td>\n",
       "      <td>102.856</td>\n",
       "      <td>0</td>\n",
       "      <td>269234.06</td>\n",
       "      <td>0.0</td>\n",
       "      <td>30</td>\n",
       "      <td>whole</td>\n",
       "      <td>NC</td>\n",
       "      <td>15</td>\n",
       "      <td>18924.0</td>\n",
       "      <td>5 years</td>\n",
       "      <td>11660.49</td>\n",
       "      <td>debt  consolidation</td>\n",
       "      <td>I</td>\n",
       "      <td>0.0</td>\n",
       "      <td>0</td>\n",
       "    </tr>\n",
       "    <tr>\n",
       "      <th>2</th>\n",
       "      <td>92602</td>\n",
       "      <td>4247560</td>\n",
       "      <td>III</td>\n",
       "      <td>&lt;1yr</td>\n",
       "      <td>Source Verified</td>\n",
       "      <td>79200.00</td>\n",
       "      <td>REN?</td>\n",
       "      <td>0</td>\n",
       "      <td>0</td>\n",
       "      <td>driver</td>\n",
       "      <td>24.9144</td>\n",
       "      <td>32800.0</td>\n",
       "      <td>17100.00</td>\n",
       "      <td>0</td>\n",
       "      <td>22.35</td>\n",
       "      <td>60.372</td>\n",
       "      <td>0</td>\n",
       "      <td>22476.53</td>\n",
       "      <td>0.0</td>\n",
       "      <td>25</td>\n",
       "      <td>whole</td>\n",
       "      <td>Florida</td>\n",
       "      <td>7</td>\n",
       "      <td>15604.0</td>\n",
       "      <td>5 years</td>\n",
       "      <td>5637.87</td>\n",
       "      <td>major  purchase</td>\n",
       "      <td>I</td>\n",
       "      <td>0.0</td>\n",
       "      <td>0</td>\n",
       "    </tr>\n",
       "    <tr>\n",
       "      <th>3</th>\n",
       "      <td>22591</td>\n",
       "      <td>197179</td>\n",
       "      <td>III</td>\n",
       "      <td>&lt;1yr</td>\n",
       "      <td>Vfied</td>\n",
       "      <td>61600.00</td>\n",
       "      <td>REN?</td>\n",
       "      <td>0</td>\n",
       "      <td>0</td>\n",
       "      <td>AvePoint</td>\n",
       "      <td>16.5816</td>\n",
       "      <td>7000.0</td>\n",
       "      <td>5130.00</td>\n",
       "      <td>0</td>\n",
       "      <td>10.36</td>\n",
       "      <td>116.272</td>\n",
       "      <td>1</td>\n",
       "      <td>15242.09</td>\n",
       "      <td>0.0</td>\n",
       "      <td>22</td>\n",
       "      <td>fully paid</td>\n",
       "      <td>NewJersey</td>\n",
       "      <td>9</td>\n",
       "      <td>22410.0</td>\n",
       "      <td>3 years</td>\n",
       "      <td>15607.17</td>\n",
       "      <td>major  purchase</td>\n",
       "      <td>I</td>\n",
       "      <td>0.0</td>\n",
       "      <td>1</td>\n",
       "    </tr>\n",
       "    <tr>\n",
       "      <th>4</th>\n",
       "      <td>125060</td>\n",
       "      <td>4646684</td>\n",
       "      <td>V</td>\n",
       "      <td>2yrs</td>\n",
       "      <td>Source Verified</td>\n",
       "      <td>68053.92</td>\n",
       "      <td>REN?</td>\n",
       "      <td>0</td>\n",
       "      <td>0</td>\n",
       "      <td>Lead Tester</td>\n",
       "      <td>40.0512</td>\n",
       "      <td>70800.0</td>\n",
       "      <td>19665.00</td>\n",
       "      <td>0</td>\n",
       "      <td>13.68</td>\n",
       "      <td>127.280</td>\n",
       "      <td>1</td>\n",
       "      <td>65433.94</td>\n",
       "      <td>0.0</td>\n",
       "      <td>32</td>\n",
       "      <td>fully paid</td>\n",
       "      <td>LA</td>\n",
       "      <td>10</td>\n",
       "      <td>36022.0</td>\n",
       "      <td>5 years</td>\n",
       "      <td>27472.86</td>\n",
       "      <td>debt  consolidation</td>\n",
       "      <td>I</td>\n",
       "      <td>0.0</td>\n",
       "      <td>0</td>\n",
       "    </tr>\n",
       "  </tbody>\n",
       "</table>\n",
       "</div>"
      ],
      "text/plain": [
       "       ID  Asst_Reg GGGrade Experience       Validation  Yearly Income  \\\n",
       "0   95074    421802      II     >10yrs            Vfied      633600.00   \n",
       "1  134131   3964312      IV       7yrs  Source Verified       85483.20   \n",
       "2   92602   4247560     III       <1yr  Source Verified       79200.00   \n",
       "3   22591    197179     III       <1yr            Vfied       61600.00   \n",
       "4  125060   4646684       V       2yrs  Source Verified       68053.92   \n",
       "\n",
       "  Home Status  Unpaid 2 years  Already Defaulted       Designation  \\\n",
       "0    MOR??AGE               0                  0   GLENDALE NISSAN   \n",
       "1        REN?               0                  0  Business Teacher   \n",
       "2        REN?               0                  0            driver   \n",
       "3        REN?               0                  0          AvePoint   \n",
       "4        REN?               0                  0       Lead Tester   \n",
       "\n",
       "   Debt to Income  Postal Code  Lend Amount  Deprecatory Records  \\\n",
       "0         12.5496      91300.0     42023.25                    0   \n",
       "1          9.0048      27400.0     38133.00                    0   \n",
       "2         24.9144      32800.0     17100.00                    0   \n",
       "3         16.5816       7000.0      5130.00                    0   \n",
       "4         40.0512      70800.0     19665.00                    0   \n",
       "\n",
       "   Interest Charged  Usage Rate  Inquiries  Present Balance  Gross Collection  \\\n",
       "0             15.39      88.924          3        607161.90               0.0   \n",
       "1              9.94     102.856          0        269234.06               0.0   \n",
       "2             22.35      60.372          0         22476.53               0.0   \n",
       "3             10.36     116.272          1         15242.09               0.0   \n",
       "4             13.68     127.280          1         65433.94               0.0   \n",
       "\n",
       "   Sub GGGrade File Status       State  Account Open  Total Unpaid CL  \\\n",
       "0           19  fully paid  California            17          58598.0   \n",
       "1           30       whole          NC            15          18924.0   \n",
       "2           25       whole     Florida             7          15604.0   \n",
       "3           22  fully paid   NewJersey             9          22410.0   \n",
       "4           32  fully paid          LA            10          36022.0   \n",
       "\n",
       "  Duration  Unpaid Amount               Reason Claim Type  Due Fee  \\\n",
       "0  3 years       31216.05  debt  consolidation          I      0.0   \n",
       "1  5 years       11660.49  debt  consolidation          I      0.0   \n",
       "2  5 years        5637.87      major  purchase          I      0.0   \n",
       "3  3 years       15607.17      major  purchase          I      0.0   \n",
       "4  5 years       27472.86  debt  consolidation          I      0.0   \n",
       "\n",
       "   Loan/No Loan  \n",
       "0             0  \n",
       "1             0  \n",
       "2             0  \n",
       "3             1  \n",
       "4             0  "
      ]
     },
     "execution_count": 17,
     "metadata": {},
     "output_type": "execute_result"
    }
   ],
   "source": [
    "df=pd.read_csv('Data_Train.csv')\n",
    "df.head()"
   ]
  },
  {
   "cell_type": "code",
   "execution_count": 18,
   "id": "82d688ba",
   "metadata": {},
   "outputs": [
    {
     "data": {
      "text/html": [
       "<div>\n",
       "<style scoped>\n",
       "    .dataframe tbody tr th:only-of-type {\n",
       "        vertical-align: middle;\n",
       "    }\n",
       "\n",
       "    .dataframe tbody tr th {\n",
       "        vertical-align: top;\n",
       "    }\n",
       "\n",
       "    .dataframe thead th {\n",
       "        text-align: right;\n",
       "    }\n",
       "</style>\n",
       "<table border=\"1\" class=\"dataframe\">\n",
       "  <thead>\n",
       "    <tr style=\"text-align: right;\">\n",
       "      <th></th>\n",
       "      <th>ID</th>\n",
       "      <th>Asst_Reg</th>\n",
       "      <th>GGGrade</th>\n",
       "      <th>Experience</th>\n",
       "      <th>Validation</th>\n",
       "      <th>Yearly Income</th>\n",
       "      <th>Home Status</th>\n",
       "      <th>Unpaid 2 years</th>\n",
       "      <th>Already Defaulted</th>\n",
       "      <th>Designation</th>\n",
       "      <th>Debt to Income</th>\n",
       "      <th>Postal Code</th>\n",
       "      <th>Lend Amount</th>\n",
       "      <th>Deprecatory Records</th>\n",
       "      <th>Interest Charged</th>\n",
       "      <th>Usage Rate</th>\n",
       "      <th>Inquiries</th>\n",
       "      <th>Present Balance</th>\n",
       "      <th>Gross Collection</th>\n",
       "      <th>Sub GGGrade</th>\n",
       "      <th>File Status</th>\n",
       "      <th>State</th>\n",
       "      <th>Account Open</th>\n",
       "      <th>Total Unpaid CL</th>\n",
       "      <th>Duration</th>\n",
       "      <th>Unpaid Amount</th>\n",
       "      <th>Reason</th>\n",
       "      <th>Claim Type</th>\n",
       "      <th>Due Fee</th>\n",
       "      <th>Loan/No Loan</th>\n",
       "    </tr>\n",
       "  </thead>\n",
       "  <tbody>\n",
       "    <tr>\n",
       "      <th>0</th>\n",
       "      <td>95074</td>\n",
       "      <td>421802</td>\n",
       "      <td>II</td>\n",
       "      <td>&gt;10yrs</td>\n",
       "      <td>Vfied</td>\n",
       "      <td>633600.00</td>\n",
       "      <td>MOR??AGE</td>\n",
       "      <td>0</td>\n",
       "      <td>0</td>\n",
       "      <td>GLENDALE NISSAN</td>\n",
       "      <td>12.5496</td>\n",
       "      <td>91300.0</td>\n",
       "      <td>42023.25</td>\n",
       "      <td>0</td>\n",
       "      <td>15.39</td>\n",
       "      <td>88.924</td>\n",
       "      <td>3</td>\n",
       "      <td>607161.90</td>\n",
       "      <td>0.0</td>\n",
       "      <td>19</td>\n",
       "      <td>fully paid</td>\n",
       "      <td>California</td>\n",
       "      <td>17</td>\n",
       "      <td>58598.0</td>\n",
       "      <td>3 years</td>\n",
       "      <td>31216.05</td>\n",
       "      <td>debt  consolidation</td>\n",
       "      <td>I</td>\n",
       "      <td>0.0</td>\n",
       "      <td>0</td>\n",
       "    </tr>\n",
       "    <tr>\n",
       "      <th>1</th>\n",
       "      <td>134131</td>\n",
       "      <td>3964312</td>\n",
       "      <td>IV</td>\n",
       "      <td>7yrs</td>\n",
       "      <td>Source Verified</td>\n",
       "      <td>85483.20</td>\n",
       "      <td>REN?</td>\n",
       "      <td>0</td>\n",
       "      <td>0</td>\n",
       "      <td>Business Teacher</td>\n",
       "      <td>9.0048</td>\n",
       "      <td>27400.0</td>\n",
       "      <td>38133.00</td>\n",
       "      <td>0</td>\n",
       "      <td>9.94</td>\n",
       "      <td>102.856</td>\n",
       "      <td>0</td>\n",
       "      <td>269234.06</td>\n",
       "      <td>0.0</td>\n",
       "      <td>30</td>\n",
       "      <td>whole</td>\n",
       "      <td>NC</td>\n",
       "      <td>15</td>\n",
       "      <td>18924.0</td>\n",
       "      <td>5 years</td>\n",
       "      <td>11660.49</td>\n",
       "      <td>debt  consolidation</td>\n",
       "      <td>I</td>\n",
       "      <td>0.0</td>\n",
       "      <td>0</td>\n",
       "    </tr>\n",
       "    <tr>\n",
       "      <th>2</th>\n",
       "      <td>92602</td>\n",
       "      <td>4247560</td>\n",
       "      <td>III</td>\n",
       "      <td>&lt;1yr</td>\n",
       "      <td>Source Verified</td>\n",
       "      <td>79200.00</td>\n",
       "      <td>REN?</td>\n",
       "      <td>0</td>\n",
       "      <td>0</td>\n",
       "      <td>driver</td>\n",
       "      <td>24.9144</td>\n",
       "      <td>32800.0</td>\n",
       "      <td>17100.00</td>\n",
       "      <td>0</td>\n",
       "      <td>22.35</td>\n",
       "      <td>60.372</td>\n",
       "      <td>0</td>\n",
       "      <td>22476.53</td>\n",
       "      <td>0.0</td>\n",
       "      <td>25</td>\n",
       "      <td>whole</td>\n",
       "      <td>Florida</td>\n",
       "      <td>7</td>\n",
       "      <td>15604.0</td>\n",
       "      <td>5 years</td>\n",
       "      <td>5637.87</td>\n",
       "      <td>major  purchase</td>\n",
       "      <td>I</td>\n",
       "      <td>0.0</td>\n",
       "      <td>0</td>\n",
       "    </tr>\n",
       "    <tr>\n",
       "      <th>3</th>\n",
       "      <td>22591</td>\n",
       "      <td>197179</td>\n",
       "      <td>III</td>\n",
       "      <td>&lt;1yr</td>\n",
       "      <td>Vfied</td>\n",
       "      <td>61600.00</td>\n",
       "      <td>REN?</td>\n",
       "      <td>0</td>\n",
       "      <td>0</td>\n",
       "      <td>AvePoint</td>\n",
       "      <td>16.5816</td>\n",
       "      <td>7000.0</td>\n",
       "      <td>5130.00</td>\n",
       "      <td>0</td>\n",
       "      <td>10.36</td>\n",
       "      <td>116.272</td>\n",
       "      <td>1</td>\n",
       "      <td>15242.09</td>\n",
       "      <td>0.0</td>\n",
       "      <td>22</td>\n",
       "      <td>fully paid</td>\n",
       "      <td>NewJersey</td>\n",
       "      <td>9</td>\n",
       "      <td>22410.0</td>\n",
       "      <td>3 years</td>\n",
       "      <td>15607.17</td>\n",
       "      <td>major  purchase</td>\n",
       "      <td>I</td>\n",
       "      <td>0.0</td>\n",
       "      <td>1</td>\n",
       "    </tr>\n",
       "    <tr>\n",
       "      <th>4</th>\n",
       "      <td>125060</td>\n",
       "      <td>4646684</td>\n",
       "      <td>V</td>\n",
       "      <td>2yrs</td>\n",
       "      <td>Source Verified</td>\n",
       "      <td>68053.92</td>\n",
       "      <td>REN?</td>\n",
       "      <td>0</td>\n",
       "      <td>0</td>\n",
       "      <td>Lead Tester</td>\n",
       "      <td>40.0512</td>\n",
       "      <td>70800.0</td>\n",
       "      <td>19665.00</td>\n",
       "      <td>0</td>\n",
       "      <td>13.68</td>\n",
       "      <td>127.280</td>\n",
       "      <td>1</td>\n",
       "      <td>65433.94</td>\n",
       "      <td>0.0</td>\n",
       "      <td>32</td>\n",
       "      <td>fully paid</td>\n",
       "      <td>LA</td>\n",
       "      <td>10</td>\n",
       "      <td>36022.0</td>\n",
       "      <td>5 years</td>\n",
       "      <td>27472.86</td>\n",
       "      <td>debt  consolidation</td>\n",
       "      <td>I</td>\n",
       "      <td>0.0</td>\n",
       "      <td>0</td>\n",
       "    </tr>\n",
       "  </tbody>\n",
       "</table>\n",
       "</div>"
      ],
      "text/plain": [
       "       ID  Asst_Reg GGGrade Experience       Validation  Yearly Income  \\\n",
       "0   95074    421802      II     >10yrs            Vfied      633600.00   \n",
       "1  134131   3964312      IV       7yrs  Source Verified       85483.20   \n",
       "2   92602   4247560     III       <1yr  Source Verified       79200.00   \n",
       "3   22591    197179     III       <1yr            Vfied       61600.00   \n",
       "4  125060   4646684       V       2yrs  Source Verified       68053.92   \n",
       "\n",
       "  Home Status  Unpaid 2 years  Already Defaulted       Designation  \\\n",
       "0    MOR??AGE               0                  0   GLENDALE NISSAN   \n",
       "1        REN?               0                  0  Business Teacher   \n",
       "2        REN?               0                  0            driver   \n",
       "3        REN?               0                  0          AvePoint   \n",
       "4        REN?               0                  0       Lead Tester   \n",
       "\n",
       "   Debt to Income  Postal Code  Lend Amount  Deprecatory Records  \\\n",
       "0         12.5496      91300.0     42023.25                    0   \n",
       "1          9.0048      27400.0     38133.00                    0   \n",
       "2         24.9144      32800.0     17100.00                    0   \n",
       "3         16.5816       7000.0      5130.00                    0   \n",
       "4         40.0512      70800.0     19665.00                    0   \n",
       "\n",
       "   Interest Charged  Usage Rate  Inquiries  Present Balance  Gross Collection  \\\n",
       "0             15.39      88.924          3        607161.90               0.0   \n",
       "1              9.94     102.856          0        269234.06               0.0   \n",
       "2             22.35      60.372          0         22476.53               0.0   \n",
       "3             10.36     116.272          1         15242.09               0.0   \n",
       "4             13.68     127.280          1         65433.94               0.0   \n",
       "\n",
       "   Sub GGGrade File Status       State  Account Open  Total Unpaid CL  \\\n",
       "0           19  fully paid  California            17          58598.0   \n",
       "1           30       whole          NC            15          18924.0   \n",
       "2           25       whole     Florida             7          15604.0   \n",
       "3           22  fully paid   NewJersey             9          22410.0   \n",
       "4           32  fully paid          LA            10          36022.0   \n",
       "\n",
       "  Duration  Unpaid Amount               Reason Claim Type  Due Fee  \\\n",
       "0  3 years       31216.05  debt  consolidation          I      0.0   \n",
       "1  5 years       11660.49  debt  consolidation          I      0.0   \n",
       "2  5 years        5637.87      major  purchase          I      0.0   \n",
       "3  3 years       15607.17      major  purchase          I      0.0   \n",
       "4  5 years       27472.86  debt  consolidation          I      0.0   \n",
       "\n",
       "   Loan/No Loan  \n",
       "0             0  \n",
       "1             0  \n",
       "2             0  \n",
       "3             1  \n",
       "4             0  "
      ]
     },
     "execution_count": 18,
     "metadata": {},
     "output_type": "execute_result"
    }
   ],
   "source": [
    "df_test=pd.read_csv('Data_Train.csv')\n",
    "df_test.head()"
   ]
  },
  {
   "cell_type": "code",
   "execution_count": 19,
   "id": "6cf0f0f5",
   "metadata": {},
   "outputs": [],
   "source": [
    "test=df_test.copy()"
   ]
  },
  {
   "cell_type": "code",
   "execution_count": 20,
   "id": "e5e4fde1",
   "metadata": {},
   "outputs": [],
   "source": [
    "train=df.copy()"
   ]
  },
  {
   "cell_type": "code",
   "execution_count": 21,
   "id": "1191206c",
   "metadata": {},
   "outputs": [
    {
     "data": {
      "text/plain": [
       "(87500, 30)"
      ]
     },
     "execution_count": 21,
     "metadata": {},
     "output_type": "execute_result"
    }
   ],
   "source": [
    "train.shape"
   ]
  },
  {
   "cell_type": "code",
   "execution_count": 22,
   "id": "a3ff960a",
   "metadata": {},
   "outputs": [
    {
     "data": {
      "text/html": [
       "<div>\n",
       "<style scoped>\n",
       "    .dataframe tbody tr th:only-of-type {\n",
       "        vertical-align: middle;\n",
       "    }\n",
       "\n",
       "    .dataframe tbody tr th {\n",
       "        vertical-align: top;\n",
       "    }\n",
       "\n",
       "    .dataframe thead th {\n",
       "        text-align: right;\n",
       "    }\n",
       "</style>\n",
       "<table border=\"1\" class=\"dataframe\">\n",
       "  <thead>\n",
       "    <tr style=\"text-align: right;\">\n",
       "      <th></th>\n",
       "      <th>ID</th>\n",
       "      <th>Asst_Reg</th>\n",
       "      <th>GGGrade</th>\n",
       "      <th>Experience</th>\n",
       "      <th>Validation</th>\n",
       "      <th>Yearly Income</th>\n",
       "      <th>Home Status</th>\n",
       "      <th>Unpaid 2 years</th>\n",
       "      <th>Already Defaulted</th>\n",
       "      <th>Designation</th>\n",
       "      <th>Debt to Income</th>\n",
       "      <th>Postal Code</th>\n",
       "      <th>Lend Amount</th>\n",
       "      <th>Deprecatory Records</th>\n",
       "      <th>Interest Charged</th>\n",
       "      <th>Usage Rate</th>\n",
       "      <th>Inquiries</th>\n",
       "      <th>Present Balance</th>\n",
       "      <th>Gross Collection</th>\n",
       "      <th>Sub GGGrade</th>\n",
       "      <th>File Status</th>\n",
       "      <th>State</th>\n",
       "      <th>Account Open</th>\n",
       "      <th>Total Unpaid CL</th>\n",
       "      <th>Duration</th>\n",
       "      <th>Unpaid Amount</th>\n",
       "      <th>Reason</th>\n",
       "      <th>Claim Type</th>\n",
       "      <th>Due Fee</th>\n",
       "      <th>Loan/No Loan</th>\n",
       "    </tr>\n",
       "  </thead>\n",
       "  <tbody>\n",
       "    <tr>\n",
       "      <th>0</th>\n",
       "      <td>95074</td>\n",
       "      <td>421802</td>\n",
       "      <td>II</td>\n",
       "      <td>&gt;10yrs</td>\n",
       "      <td>Vfied</td>\n",
       "      <td>633600.0</td>\n",
       "      <td>MOR??AGE</td>\n",
       "      <td>0</td>\n",
       "      <td>0</td>\n",
       "      <td>GLENDALE NISSAN</td>\n",
       "      <td>12.5496</td>\n",
       "      <td>91300.0</td>\n",
       "      <td>42023.25</td>\n",
       "      <td>0</td>\n",
       "      <td>15.39</td>\n",
       "      <td>88.924</td>\n",
       "      <td>3</td>\n",
       "      <td>607161.9</td>\n",
       "      <td>0.0</td>\n",
       "      <td>19</td>\n",
       "      <td>fully paid</td>\n",
       "      <td>California</td>\n",
       "      <td>17</td>\n",
       "      <td>58598.0</td>\n",
       "      <td>3 years</td>\n",
       "      <td>31216.05</td>\n",
       "      <td>debt  consolidation</td>\n",
       "      <td>I</td>\n",
       "      <td>0.0</td>\n",
       "      <td>0</td>\n",
       "    </tr>\n",
       "  </tbody>\n",
       "</table>\n",
       "</div>"
      ],
      "text/plain": [
       "      ID  Asst_Reg GGGrade Experience Validation  Yearly Income Home Status  \\\n",
       "0  95074    421802      II     >10yrs      Vfied       633600.0    MOR??AGE   \n",
       "\n",
       "   Unpaid 2 years  Already Defaulted      Designation  Debt to Income  \\\n",
       "0               0                  0  GLENDALE NISSAN         12.5496   \n",
       "\n",
       "   Postal Code  Lend Amount  Deprecatory Records  Interest Charged  \\\n",
       "0      91300.0     42023.25                    0             15.39   \n",
       "\n",
       "   Usage Rate  Inquiries  Present Balance  Gross Collection  Sub GGGrade  \\\n",
       "0      88.924          3         607161.9               0.0           19   \n",
       "\n",
       "  File Status       State  Account Open  Total Unpaid CL Duration  \\\n",
       "0  fully paid  California            17          58598.0  3 years   \n",
       "\n",
       "   Unpaid Amount               Reason Claim Type  Due Fee  Loan/No Loan  \n",
       "0       31216.05  debt  consolidation          I      0.0             0  "
      ]
     },
     "execution_count": 22,
     "metadata": {},
     "output_type": "execute_result"
    }
   ],
   "source": [
    "train.head(1)"
   ]
  },
  {
   "cell_type": "code",
   "execution_count": 23,
   "id": "d888bd69",
   "metadata": {},
   "outputs": [
    {
     "data": {
      "text/plain": [
       "Index(['ID', 'Asst_Reg', 'GGGrade', 'Experience', 'Validation',\n",
       "       'Yearly Income', 'Home Status', 'Unpaid 2 years', 'Already Defaulted',\n",
       "       'Designation', 'Debt to Income', 'Postal Code', 'Lend Amount',\n",
       "       'Deprecatory Records', 'Interest Charged', 'Usage Rate', 'Inquiries',\n",
       "       'Present Balance', 'Gross Collection', 'Sub GGGrade', 'File Status',\n",
       "       'State', 'Account Open', 'Total Unpaid CL', 'Duration', 'Unpaid Amount',\n",
       "       'Reason', 'Claim Type', 'Due Fee', 'Loan/No Loan'],\n",
       "      dtype='object')"
      ]
     },
     "execution_count": 23,
     "metadata": {},
     "output_type": "execute_result"
    }
   ],
   "source": [
    "train.columns"
   ]
  },
  {
   "cell_type": "code",
   "execution_count": 24,
   "id": "07ff2181",
   "metadata": {},
   "outputs": [
    {
     "data": {
      "text/plain": [
       "ID                       int64\n",
       "Asst_Reg                 int64\n",
       "GGGrade                 object\n",
       "Experience              object\n",
       "Validation              object\n",
       "Yearly Income          float64\n",
       "Home Status             object\n",
       "Unpaid 2 years           int64\n",
       "Already Defaulted        int64\n",
       "Designation             object\n",
       "Debt to Income         float64\n",
       "Postal Code            float64\n",
       "Lend Amount            float64\n",
       "Deprecatory Records      int64\n",
       "Interest Charged       float64\n",
       "Usage Rate             float64\n",
       "Inquiries                int64\n",
       "Present Balance        float64\n",
       "Gross Collection       float64\n",
       "Sub GGGrade              int64\n",
       "File Status             object\n",
       "State                   object\n",
       "Account Open             int64\n",
       "Total Unpaid CL        float64\n",
       "Duration                object\n",
       "Unpaid Amount          float64\n",
       "Reason                  object\n",
       "Claim Type              object\n",
       "Due Fee                float64\n",
       "Loan/No Loan             int64\n",
       "dtype: object"
      ]
     },
     "execution_count": 24,
     "metadata": {},
     "output_type": "execute_result"
    }
   ],
   "source": [
    "train.dtypes"
   ]
  },
  {
   "cell_type": "markdown",
   "id": "60a7a622",
   "metadata": {},
   "source": [
    "Univariate Analysis"
   ]
  },
  {
   "cell_type": "code",
   "execution_count": 25,
   "id": "4dcafa9d",
   "metadata": {},
   "outputs": [
    {
     "ename": "KeyError",
     "evalue": "'Loan_Status'",
     "output_type": "error",
     "traceback": [
      "\u001b[1;31m---------------------------------------------------------------------------\u001b[0m",
      "\u001b[1;31mKeyError\u001b[0m                                  Traceback (most recent call last)",
      "\u001b[1;32mC:\\ProgramData\\Anaconda3\\lib\\site-packages\\pandas\\core\\indexes\\base.py\u001b[0m in \u001b[0;36mget_loc\u001b[1;34m(self, key, method, tolerance)\u001b[0m\n\u001b[0;32m   3079\u001b[0m             \u001b[1;32mtry\u001b[0m\u001b[1;33m:\u001b[0m\u001b[1;33m\u001b[0m\u001b[1;33m\u001b[0m\u001b[0m\n\u001b[1;32m-> 3080\u001b[1;33m                 \u001b[1;32mreturn\u001b[0m \u001b[0mself\u001b[0m\u001b[1;33m.\u001b[0m\u001b[0m_engine\u001b[0m\u001b[1;33m.\u001b[0m\u001b[0mget_loc\u001b[0m\u001b[1;33m(\u001b[0m\u001b[0mcasted_key\u001b[0m\u001b[1;33m)\u001b[0m\u001b[1;33m\u001b[0m\u001b[1;33m\u001b[0m\u001b[0m\n\u001b[0m\u001b[0;32m   3081\u001b[0m             \u001b[1;32mexcept\u001b[0m \u001b[0mKeyError\u001b[0m \u001b[1;32mas\u001b[0m \u001b[0merr\u001b[0m\u001b[1;33m:\u001b[0m\u001b[1;33m\u001b[0m\u001b[1;33m\u001b[0m\u001b[0m\n",
      "\u001b[1;32mpandas\\_libs\\index.pyx\u001b[0m in \u001b[0;36mpandas._libs.index.IndexEngine.get_loc\u001b[1;34m()\u001b[0m\n",
      "\u001b[1;32mpandas\\_libs\\index.pyx\u001b[0m in \u001b[0;36mpandas._libs.index.IndexEngine.get_loc\u001b[1;34m()\u001b[0m\n",
      "\u001b[1;32mpandas\\_libs\\hashtable_class_helper.pxi\u001b[0m in \u001b[0;36mpandas._libs.hashtable.PyObjectHashTable.get_item\u001b[1;34m()\u001b[0m\n",
      "\u001b[1;32mpandas\\_libs\\hashtable_class_helper.pxi\u001b[0m in \u001b[0;36mpandas._libs.hashtable.PyObjectHashTable.get_item\u001b[1;34m()\u001b[0m\n",
      "\u001b[1;31mKeyError\u001b[0m: 'Loan_Status'",
      "\nThe above exception was the direct cause of the following exception:\n",
      "\u001b[1;31mKeyError\u001b[0m                                  Traceback (most recent call last)",
      "\u001b[1;32m<ipython-input-25-d44ace825cdf>\u001b[0m in \u001b[0;36m<module>\u001b[1;34m\u001b[0m\n\u001b[1;32m----> 1\u001b[1;33m \u001b[0mtrain\u001b[0m\u001b[1;33m[\u001b[0m\u001b[1;34m'Loan_Status'\u001b[0m\u001b[1;33m]\u001b[0m\u001b[1;33m.\u001b[0m\u001b[0mvalue_counts\u001b[0m\u001b[1;33m(\u001b[0m\u001b[1;33m)\u001b[0m\u001b[1;33m\u001b[0m\u001b[1;33m\u001b[0m\u001b[0m\n\u001b[0m",
      "\u001b[1;32mC:\\ProgramData\\Anaconda3\\lib\\site-packages\\pandas\\core\\frame.py\u001b[0m in \u001b[0;36m__getitem__\u001b[1;34m(self, key)\u001b[0m\n\u001b[0;32m   3022\u001b[0m             \u001b[1;32mif\u001b[0m \u001b[0mself\u001b[0m\u001b[1;33m.\u001b[0m\u001b[0mcolumns\u001b[0m\u001b[1;33m.\u001b[0m\u001b[0mnlevels\u001b[0m \u001b[1;33m>\u001b[0m \u001b[1;36m1\u001b[0m\u001b[1;33m:\u001b[0m\u001b[1;33m\u001b[0m\u001b[1;33m\u001b[0m\u001b[0m\n\u001b[0;32m   3023\u001b[0m                 \u001b[1;32mreturn\u001b[0m \u001b[0mself\u001b[0m\u001b[1;33m.\u001b[0m\u001b[0m_getitem_multilevel\u001b[0m\u001b[1;33m(\u001b[0m\u001b[0mkey\u001b[0m\u001b[1;33m)\u001b[0m\u001b[1;33m\u001b[0m\u001b[1;33m\u001b[0m\u001b[0m\n\u001b[1;32m-> 3024\u001b[1;33m             \u001b[0mindexer\u001b[0m \u001b[1;33m=\u001b[0m \u001b[0mself\u001b[0m\u001b[1;33m.\u001b[0m\u001b[0mcolumns\u001b[0m\u001b[1;33m.\u001b[0m\u001b[0mget_loc\u001b[0m\u001b[1;33m(\u001b[0m\u001b[0mkey\u001b[0m\u001b[1;33m)\u001b[0m\u001b[1;33m\u001b[0m\u001b[1;33m\u001b[0m\u001b[0m\n\u001b[0m\u001b[0;32m   3025\u001b[0m             \u001b[1;32mif\u001b[0m \u001b[0mis_integer\u001b[0m\u001b[1;33m(\u001b[0m\u001b[0mindexer\u001b[0m\u001b[1;33m)\u001b[0m\u001b[1;33m:\u001b[0m\u001b[1;33m\u001b[0m\u001b[1;33m\u001b[0m\u001b[0m\n\u001b[0;32m   3026\u001b[0m                 \u001b[0mindexer\u001b[0m \u001b[1;33m=\u001b[0m \u001b[1;33m[\u001b[0m\u001b[0mindexer\u001b[0m\u001b[1;33m]\u001b[0m\u001b[1;33m\u001b[0m\u001b[1;33m\u001b[0m\u001b[0m\n",
      "\u001b[1;32mC:\\ProgramData\\Anaconda3\\lib\\site-packages\\pandas\\core\\indexes\\base.py\u001b[0m in \u001b[0;36mget_loc\u001b[1;34m(self, key, method, tolerance)\u001b[0m\n\u001b[0;32m   3080\u001b[0m                 \u001b[1;32mreturn\u001b[0m \u001b[0mself\u001b[0m\u001b[1;33m.\u001b[0m\u001b[0m_engine\u001b[0m\u001b[1;33m.\u001b[0m\u001b[0mget_loc\u001b[0m\u001b[1;33m(\u001b[0m\u001b[0mcasted_key\u001b[0m\u001b[1;33m)\u001b[0m\u001b[1;33m\u001b[0m\u001b[1;33m\u001b[0m\u001b[0m\n\u001b[0;32m   3081\u001b[0m             \u001b[1;32mexcept\u001b[0m \u001b[0mKeyError\u001b[0m \u001b[1;32mas\u001b[0m \u001b[0merr\u001b[0m\u001b[1;33m:\u001b[0m\u001b[1;33m\u001b[0m\u001b[1;33m\u001b[0m\u001b[0m\n\u001b[1;32m-> 3082\u001b[1;33m                 \u001b[1;32mraise\u001b[0m \u001b[0mKeyError\u001b[0m\u001b[1;33m(\u001b[0m\u001b[0mkey\u001b[0m\u001b[1;33m)\u001b[0m \u001b[1;32mfrom\u001b[0m \u001b[0merr\u001b[0m\u001b[1;33m\u001b[0m\u001b[1;33m\u001b[0m\u001b[0m\n\u001b[0m\u001b[0;32m   3083\u001b[0m \u001b[1;33m\u001b[0m\u001b[0m\n\u001b[0;32m   3084\u001b[0m         \u001b[1;32mif\u001b[0m \u001b[0mtolerance\u001b[0m \u001b[1;32mis\u001b[0m \u001b[1;32mnot\u001b[0m \u001b[1;32mNone\u001b[0m\u001b[1;33m:\u001b[0m\u001b[1;33m\u001b[0m\u001b[1;33m\u001b[0m\u001b[0m\n",
      "\u001b[1;31mKeyError\u001b[0m: 'Loan_Status'"
     ]
    }
   ],
   "source": [
    "train['Loan_Status'].value_counts()"
   ]
  },
  {
   "cell_type": "code",
   "execution_count": null,
   "id": "49865108",
   "metadata": {},
   "outputs": [],
   "source": [
    "train['Loan_Status'].value_counts(normalize=True)"
   ]
  },
  {
   "cell_type": "code",
   "execution_count": null,
   "id": "0cf41115",
   "metadata": {},
   "outputs": [],
   "source": [
    "train['Loan_Status'].value_counts().plot.bar()"
   ]
  },
  {
   "cell_type": "markdown",
   "id": "826c967f",
   "metadata": {},
   "source": [
    "The loan of 422 people(around 69%) out of 612 people was approved."
   ]
  },
  {
   "cell_type": "markdown",
   "id": "a4e85a13",
   "metadata": {},
   "source": [
    "Categorical Variables"
   ]
  },
  {
   "cell_type": "code",
   "execution_count": null,
   "id": "7d9165b1",
   "metadata": {},
   "outputs": [],
   "source": [
    "train['Gender'].value_counts(normalize=True).plot.bar()"
   ]
  },
  {
   "cell_type": "code",
   "execution_count": null,
   "id": "969408c3",
   "metadata": {},
   "outputs": [],
   "source": [
    "train['Married'].value_counts(normalize=True).plot.bar()"
   ]
  },
  {
   "cell_type": "code",
   "execution_count": null,
   "id": "3a00cf73",
   "metadata": {},
   "outputs": [],
   "source": [
    "train['Self_Employed'].value_counts(normalize=True).plot.bar()"
   ]
  },
  {
   "cell_type": "code",
   "execution_count": null,
   "id": "c2b7c30d",
   "metadata": {},
   "outputs": [],
   "source": [
    "train['Credit_History'].value_counts(normalize=True).plot.bar()"
   ]
  },
  {
   "cell_type": "markdown",
   "id": "018e1c01",
   "metadata": {},
   "source": [
    "Inferences from above bar plots:\n",
    "    1. 80% of the applicants in the dataset are male.\n",
    "    2.Around 65% of the applicants in the dataset are married.\n",
    "    3. Around 15% of the applicants in the dataset are self employed.\n",
    "    4. Around 85% of the applicants in the dataset have a credit history and have repaid their debts."
   ]
  },
  {
   "cell_type": "markdown",
   "id": "a74e6943",
   "metadata": {},
   "source": [
    "Categorical variables with ordinal nature:"
   ]
  },
  {
   "cell_type": "code",
   "execution_count": null,
   "id": "5d01d4cd",
   "metadata": {},
   "outputs": [],
   "source": [
    "train['Dependents'].value_counts(normalize=True).plot.bar()"
   ]
  },
  {
   "cell_type": "code",
   "execution_count": null,
   "id": "8e99e91a",
   "metadata": {},
   "outputs": [],
   "source": [
    "train['Education'].value_counts(normalize=True).plot.bar()"
   ]
  },
  {
   "cell_type": "code",
   "execution_count": null,
   "id": "24e2f854",
   "metadata": {},
   "outputs": [],
   "source": [
    "train['Property_Area'].value_counts(normalize=True).plot.bar()"
   ]
  },
  {
   "cell_type": "markdown",
   "id": "4f5f9fce",
   "metadata": {},
   "source": [
    "Inferences from above bar plots:\n",
    "    1. Most of the applicants don't have dependents.\n",
    "    2. Around 80% of the total applicants are graduate.\n",
    "    3. Most of the applicants are from semiurban areas."
   ]
  },
  {
   "cell_type": "markdown",
   "id": "342decbb",
   "metadata": {},
   "source": [
    "Numerical Variables:\n",
    "    "
   ]
  },
  {
   "cell_type": "code",
   "execution_count": null,
   "id": "c1158d77",
   "metadata": {},
   "outputs": [],
   "source": [
    "sns.distplot(train['ApplicantIncome'])"
   ]
  },
  {
   "cell_type": "code",
   "execution_count": null,
   "id": "249cb447",
   "metadata": {},
   "outputs": [],
   "source": [
    "train['ApplicantIncome'].plot.box()"
   ]
  },
  {
   "cell_type": "markdown",
   "id": "83fdb3a8",
   "metadata": {},
   "source": [
    "It can be infered from the plot that most of the data in the distribution of applicant income is towards left\n",
    "which means it is not normally distributed.We will try to make it normal later as algorithm works better with normal distributed datas. "
   ]
  },
  {
   "cell_type": "markdown",
   "id": "eb49e323",
   "metadata": {},
   "source": [
    "The box plot confirms the presence of extreme values or outliers.\n",
    "This can be attributed to the income disparity in the society.\n",
    "Part of this can be driven by the fact that we are looking at people with different education levels.\n"
   ]
  },
  {
   "cell_type": "code",
   "execution_count": null,
   "id": "c2797b53",
   "metadata": {},
   "outputs": [],
   "source": [
    "train.boxplot(column='ApplicantIncome',by='Education',figsize=(6,5))\n"
   ]
  },
  {
   "cell_type": "markdown",
   "id": "6b0411cc",
   "metadata": {},
   "source": [
    "We can see that there are a higher number of graduates with very high incomes, which are appearing as the outliers."
   ]
  },
  {
   "cell_type": "code",
   "execution_count": null,
   "id": "8eeb4d72",
   "metadata": {},
   "outputs": [],
   "source": [
    "sns.distplot(train['CoapplicantIncome'])"
   ]
  },
  {
   "cell_type": "markdown",
   "id": "aa183c13",
   "metadata": {},
   "source": [
    "Majority of the coapplicant's income distribution ranges from 0 to 5000. We can also see outliers present and it is not normally distributed."
   ]
  },
  {
   "cell_type": "code",
   "execution_count": null,
   "id": "35554a7d",
   "metadata": {},
   "outputs": [],
   "source": [
    "train['CoapplicantIncome'].plot.box(figsize=(8,5))"
   ]
  },
  {
   "cell_type": "code",
   "execution_count": null,
   "id": "e70eb4bc",
   "metadata": {},
   "outputs": [],
   "source": [
    "sns.distplot(train['LoanAmount'])"
   ]
  },
  {
   "cell_type": "markdown",
   "id": "96924270",
   "metadata": {},
   "source": [
    "We can see alot of outliers present in Loan Amount and distribution is fairly normal. The outliers present will be treated in later section."
   ]
  },
  {
   "cell_type": "markdown",
   "id": "e72d504d",
   "metadata": {},
   "source": [
    "BIVARIATE ANALYSIS"
   ]
  },
  {
   "cell_type": "markdown",
   "id": "64ade6f1",
   "metadata": {},
   "source": [
    "Categorical vs Target variable"
   ]
  },
  {
   "cell_type": "code",
   "execution_count": null,
   "id": "21f3107b",
   "metadata": {},
   "outputs": [],
   "source": [
    "Gen=pd.crosstab(train['Gender'],train['Loan_Status'])\n",
    "Gen"
   ]
  },
  {
   "cell_type": "code",
   "execution_count": null,
   "id": "ab7138f8",
   "metadata": {},
   "outputs": [],
   "source": [
    "Gen.plot(kind='bar',stacked=True,figsize=(5,5))"
   ]
  },
  {
   "cell_type": "code",
   "execution_count": null,
   "id": "ca21d49d",
   "metadata": {},
   "outputs": [],
   "source": [
    "Gen.div(Gen.sum(1).astype(float),axis=0)"
   ]
  },
  {
   "cell_type": "code",
   "execution_count": null,
   "id": "f2e83451",
   "metadata": {},
   "outputs": [],
   "source": [
    "Gen.div(Gen.sum(1).astype(float),axis=0).plot(kind='bar',stacked=True,figsize=(5,5))"
   ]
  },
  {
   "cell_type": "markdown",
   "id": "762d31d9",
   "metadata": {},
   "source": [
    "It can be inferred that the proportion of male and female applicant is more or less same for both approved and unapproved loans."
   ]
  },
  {
   "cell_type": "code",
   "execution_count": null,
   "id": "e4981e49",
   "metadata": {},
   "outputs": [],
   "source": [
    "shadi=pd.crosstab(train['Married'],train['Loan_Status'])\n",
    "shadi"
   ]
  },
  {
   "cell_type": "code",
   "execution_count": null,
   "id": "573f32d4",
   "metadata": {},
   "outputs": [],
   "source": [
    "shadi.plot(kind='bar',stacked=True,figsize=(5,5))"
   ]
  },
  {
   "cell_type": "code",
   "execution_count": null,
   "id": "628431ae",
   "metadata": {},
   "outputs": [],
   "source": [
    "shadi.div(shadi.sum(1).astype(float),axis=0)"
   ]
  },
  {
   "cell_type": "code",
   "execution_count": null,
   "id": "7e92f10c",
   "metadata": {},
   "outputs": [],
   "source": [
    "shadi.div(shadi.sum(1).astype(float),axis=0).plot(kind='bar',stacked=True,figsize=(5,5))"
   ]
  },
  {
   "cell_type": "markdown",
   "id": "f094d095",
   "metadata": {},
   "source": [
    "It can be inferred from the plot that the proportion of married applicants is higher for the approved loans."
   ]
  },
  {
   "cell_type": "code",
   "execution_count": null,
   "id": "2fe88481",
   "metadata": {},
   "outputs": [],
   "source": [
    "dep=pd.crosstab(train['Dependents'],train['Loan_Status'])\n",
    "dep"
   ]
  },
  {
   "cell_type": "code",
   "execution_count": null,
   "id": "f266fb9f",
   "metadata": {},
   "outputs": [],
   "source": [
    "dep.plot(kind='bar',stacked=True,figsize=(5,5))"
   ]
  },
  {
   "cell_type": "code",
   "execution_count": null,
   "id": "a1b6e196",
   "metadata": {},
   "outputs": [],
   "source": [
    "dep.div(dep.sum(1).astype(float),axis=0)"
   ]
  },
  {
   "cell_type": "code",
   "execution_count": null,
   "id": "1348e6e5",
   "metadata": {},
   "outputs": [],
   "source": [
    "dep.div(dep.sum(1).astype(float),axis=0).plot(kind='bar',stacked=True,figsize=(5,5))"
   ]
  },
  {
   "cell_type": "markdown",
   "id": "ae5768ad",
   "metadata": {},
   "source": [
    "Distribution of applicants with 1 or 3+ dependents is similar across both categories of Loan_Status."
   ]
  },
  {
   "cell_type": "code",
   "execution_count": null,
   "id": "4c3e1ece",
   "metadata": {
    "scrolled": true
   },
   "outputs": [],
   "source": [
    "Edu=pd.crosstab(train['Education'],train['Loan_Status'])\n",
    "Edu"
   ]
  },
  {
   "cell_type": "code",
   "execution_count": null,
   "id": "db1c149e",
   "metadata": {},
   "outputs": [],
   "source": [
    "Edu.plot(kind='bar',stacked=True,figsize=(5,5))"
   ]
  },
  {
   "cell_type": "code",
   "execution_count": null,
   "id": "be31c854",
   "metadata": {},
   "outputs": [],
   "source": [
    "Edu.div(Edu.sum(1).astype(float),axis=0)"
   ]
  },
  {
   "cell_type": "code",
   "execution_count": null,
   "id": "76de2080",
   "metadata": {},
   "outputs": [],
   "source": [
    "Edu.div(Edu.sum(1).astype(float),axis=0).plot(kind='bar',stacked=True,figsize=(5,5))"
   ]
  },
  {
   "cell_type": "markdown",
   "id": "32fd8d53",
   "metadata": {},
   "source": [
    "It seems the proportion of applicants with graduation degree have been approved loan more compare to not graduate applicants."
   ]
  },
  {
   "cell_type": "code",
   "execution_count": null,
   "id": "e5c6f66a",
   "metadata": {},
   "outputs": [],
   "source": [
    "Self_Emp=pd.crosstab(train['Self_Employed'],train['Loan_Status'])\n",
    "Self_Emp"
   ]
  },
  {
   "cell_type": "code",
   "execution_count": null,
   "id": "4a34dcef",
   "metadata": {},
   "outputs": [],
   "source": [
    "Self_Emp.plot(kind='bar',stacked=True,figsize=(5,5))"
   ]
  },
  {
   "cell_type": "code",
   "execution_count": null,
   "id": "a2c0365e",
   "metadata": {},
   "outputs": [],
   "source": [
    "Self_Emp.div(Self_Emp.sum(1).astype(float),axis=0)"
   ]
  },
  {
   "cell_type": "code",
   "execution_count": null,
   "id": "a0bff278",
   "metadata": {},
   "outputs": [],
   "source": [
    "Self_Emp.div(Self_Emp.sum(1).astype(float),axis=0).plot(kind='bar',stacked=True,figsize=(5,5))"
   ]
  },
  {
   "cell_type": "markdown",
   "id": "8fe7d212",
   "metadata": {},
   "source": [
    "No significant inference can be seen from the Self_Employed vs Loan_Status distribution."
   ]
  },
  {
   "cell_type": "code",
   "execution_count": null,
   "id": "701cfc56",
   "metadata": {},
   "outputs": [],
   "source": [
    "Cred_Hist=pd.crosstab(train['Credit_History'],train['Loan_Status'])\n",
    "Cred_Hist"
   ]
  },
  {
   "cell_type": "code",
   "execution_count": null,
   "id": "ad1a1a71",
   "metadata": {},
   "outputs": [],
   "source": [
    "Cred_Hist.plot(kind='bar',stacked=True,figsize=(5,5))"
   ]
  },
  {
   "cell_type": "code",
   "execution_count": null,
   "id": "39b720aa",
   "metadata": {},
   "outputs": [],
   "source": [
    "Cred_Hist.div(Cred_Hist.sum(1).astype(float),axis=0)\n"
   ]
  },
  {
   "cell_type": "code",
   "execution_count": null,
   "id": "613d14e5",
   "metadata": {},
   "outputs": [],
   "source": [
    "Cred_Hist.div(Cred_Hist.sum(1).astype(float),axis=0).plot(kind='bar',stacked=True,figsize=(5,5))"
   ]
  },
  {
   "cell_type": "markdown",
   "id": "9d66eff4",
   "metadata": {},
   "source": [
    "It seems applicants with credit history 1 are more likely to get their loan approved."
   ]
  },
  {
   "cell_type": "code",
   "execution_count": null,
   "id": "8203ad28",
   "metadata": {},
   "outputs": [],
   "source": [
    "Prop=pd.crosstab(train['Property_Area'],train['Loan_Status'])\n",
    "Prop"
   ]
  },
  {
   "cell_type": "code",
   "execution_count": null,
   "id": "3abb80a7",
   "metadata": {},
   "outputs": [],
   "source": [
    "Prop.plot(kind='bar',stacked=True,figsize=(5,5))"
   ]
  },
  {
   "cell_type": "code",
   "execution_count": null,
   "id": "ff760832",
   "metadata": {},
   "outputs": [],
   "source": [
    "Prop.div(Prop.sum(1).astype(float),axis=0)"
   ]
  },
  {
   "cell_type": "code",
   "execution_count": null,
   "id": "d818b273",
   "metadata": {},
   "outputs": [],
   "source": [
    "Prop.div(Prop.sum(1).astype(float),axis=0).plot(kind='bar',stacked=True,figsize=(5,5))"
   ]
  },
  {
   "cell_type": "markdown",
   "id": "24f14807",
   "metadata": {},
   "source": [
    "Proportions of loans getting approved in semi urban area is higher compare to that of urban and rural areas."
   ]
  },
  {
   "cell_type": "markdown",
   "id": "039d613f",
   "metadata": {},
   "source": [
    "Numerical Variable vs Target Variable"
   ]
  },
  {
   "cell_type": "markdown",
   "id": "ae6d1f9b",
   "metadata": {},
   "source": [
    "Loan status vs Applicant Income"
   ]
  },
  {
   "cell_type": "code",
   "execution_count": null,
   "id": "bc0ef589",
   "metadata": {},
   "outputs": [],
   "source": [
    "train.groupby('Loan_Status')['ApplicantIncome'].mean().plot.bar()"
   ]
  },
  {
   "cell_type": "markdown",
   "id": "cd25a282",
   "metadata": {},
   "source": [
    "Here y-axis represent the mean applicant income.We don't see any changes in income.\n",
    "So let's make bins for the applicant income variable for the values in it and analyse the corresponding loan status for the bins."
   ]
  },
  {
   "cell_type": "code",
   "execution_count": null,
   "id": "bad61b52",
   "metadata": {},
   "outputs": [],
   "source": [
    "bins=[0,2500,4000,6000,80000]\n",
    "group=['low','Average','High','Very High']\n",
    "train['Income_bin']=pd.cut(train['ApplicantIncome'],bins,labels=group)"
   ]
  },
  {
   "cell_type": "code",
   "execution_count": null,
   "id": "bab4813d",
   "metadata": {},
   "outputs": [],
   "source": [
    "Income_bin=pd.crosstab(train['Income_bin'],train['Loan_Status'])\n",
    "Income_bin.div(Income_bin.sum(1).astype(float),axis=0).plot(kind='bar',stacked=True)\n",
    "plt.xlabel('ApplicantIncome')\n",
    "plt.ylabel('Percentage')"
   ]
  },
  {
   "cell_type": "markdown",
   "id": "2891200f",
   "metadata": {},
   "source": [
    "It can be infered that the applicant income does not affect the chances of loan approval. This inference seems wrong as from domain expertise \n",
    "we know the loan approval depends the income of the applicant most of the times."
   ]
  },
  {
   "cell_type": "markdown",
   "id": "a40febd9",
   "metadata": {},
   "source": [
    "Coapplicant Income vs Target variable(Loan_Status)"
   ]
  },
  {
   "cell_type": "code",
   "execution_count": null,
   "id": "4211acc5",
   "metadata": {},
   "outputs": [],
   "source": [
    "train['CoapplicantIncome'].describe()"
   ]
  },
  {
   "cell_type": "code",
   "execution_count": null,
   "id": "04777b9e",
   "metadata": {},
   "outputs": [],
   "source": [
    "bins=[0,1000,3000,40000]\n",
    "group=['Low','Average','High']\n",
    "train['CoapplicantIncome_bin']=pd.cut(train['CoapplicantIncome'],bins,labels=group)"
   ]
  },
  {
   "cell_type": "code",
   "execution_count": null,
   "id": "875c2d43",
   "metadata": {},
   "outputs": [],
   "source": [
    "CoapplicantIncome_bin=pd.crosstab(train['CoapplicantIncome_bin'],train['Loan_Status'])\n",
    "CoapplicantIncome_bin=CoapplicantIncome_bin.div(CoapplicantIncome_bin.sum(1).astype(float),axis=0).plot(kind='bar',stacked=True)\n",
    "plt.xlabel('CoapplicantIncome')\n",
    "plt.ylabel('Percentage')"
   ]
  },
  {
   "cell_type": "markdown",
   "id": "34c6ab06",
   "metadata": {},
   "source": [
    "The chart shows that if the coapplicantincome is low , the chances of loan approval are high.But this doesnot look right.\n",
    "Maybe coapplicant income doesnot depend on loan status or maybe there are no coapplicant for some applicant which makes the coapplicant income zero for those applicant and it may be having effect which can be seen on bar graph."
   ]
  },
  {
   "cell_type": "markdown",
   "id": "39fc184a",
   "metadata": {},
   "source": [
    "Let's make a new variable by combining appliacnt and coapplicant income and see the combine effect on loan status."
   ]
  },
  {
   "cell_type": "code",
   "execution_count": null,
   "id": "2fff7a20",
   "metadata": {},
   "outputs": [],
   "source": [
    "train['Total_Income']=train['ApplicantIncome']+train['CoapplicantIncome']"
   ]
  },
  {
   "cell_type": "code",
   "execution_count": null,
   "id": "29dad65c",
   "metadata": {},
   "outputs": [],
   "source": [
    "train.head(1)"
   ]
  },
  {
   "cell_type": "code",
   "execution_count": null,
   "id": "c0e32d7b",
   "metadata": {},
   "outputs": [],
   "source": [
    "train['Total_Income'].describe()"
   ]
  },
  {
   "cell_type": "code",
   "execution_count": null,
   "id": "64cd1534",
   "metadata": {},
   "outputs": [],
   "source": [
    "bins=[0,2500,4000,6000,80000]\n",
    "group=['Low','Average','High','Very High']\n",
    "train['Total_Income']=pd.cut(train['Total_Income'],bins,labels=group)"
   ]
  },
  {
   "cell_type": "code",
   "execution_count": null,
   "id": "79d23298",
   "metadata": {},
   "outputs": [],
   "source": [
    "Total_Income=pd.crosstab(train['Total_Income'],train['Loan_Status'])\n",
    "Total_Income=Total_Income.div(Total_Income.sum(1).astype(float),axis=0).plot(kind='bar',stacked=True)\n",
    "plt.xlabel('Total_Income')\n",
    "plt.ylabel('Percentage')"
   ]
  },
  {
   "cell_type": "markdown",
   "id": "3c89089a",
   "metadata": {},
   "source": [
    "As we can see that the proportion of applicant with low income have less chances of getting loan approved as compare to average ,\n",
    "high and very high income."
   ]
  },
  {
   "cell_type": "markdown",
   "id": "0dc3cea7",
   "metadata": {},
   "source": [
    "LoanAmount vs Loan_Status"
   ]
  },
  {
   "cell_type": "code",
   "execution_count": null,
   "id": "19a5a1d8",
   "metadata": {},
   "outputs": [],
   "source": [
    "train['LoanAmount'].describe()"
   ]
  },
  {
   "cell_type": "code",
   "execution_count": null,
   "id": "27098c29",
   "metadata": {},
   "outputs": [],
   "source": [
    "bins=[0,100,200,700]\n",
    "group=['Low','Average','High']\n",
    "train['LoanAmount_bin']=pd.cut(train['LoanAmount'],bins,labels=group)"
   ]
  },
  {
   "cell_type": "code",
   "execution_count": null,
   "id": "ef6504f9",
   "metadata": {},
   "outputs": [],
   "source": [
    "LoanAmount_bin=pd.crosstab(train['LoanAmount_bin'],train['Loan_Status'])\n",
    "LoanAmount_bin=LoanAmount_bin.div(LoanAmount_bin.sum(1).astype(float),axis=0).plot(kind='bar',stacked=True)\n",
    "plt.xlabel('LoanAmount')\n",
    "plt.ylabel('Percentage')"
   ]
  },
  {
   "cell_type": "markdown",
   "id": "b59600e7",
   "metadata": {},
   "source": [
    "Here we can see that, when the loan amount is low and average ,the proportion of loan approved is higher compare to when \n",
    "the loan amount is high."
   ]
  },
  {
   "cell_type": "code",
   "execution_count": null,
   "id": "68b4d524",
   "metadata": {},
   "outputs": [],
   "source": [
    "##Dropping all the bins columns\n",
    "train=train.drop(['Income_bin','CoapplicantIncome_bin','LoanAmount_bin','Total_Income'],axis=1)"
   ]
  },
  {
   "cell_type": "code",
   "execution_count": null,
   "id": "75de1f05",
   "metadata": {},
   "outputs": [],
   "source": [
    "train.head(1)"
   ]
  },
  {
   "cell_type": "markdown",
   "id": "dd01d943",
   "metadata": {},
   "source": [
    "EDA"
   ]
  },
  {
   "cell_type": "code",
   "execution_count": null,
   "id": "b9756d93",
   "metadata": {},
   "outputs": [],
   "source": [
    "train['Dependents'].replace('3+',3,inplace=True)\n",
    "test['Dependents'].replace('3+',3,inplace=True)\n",
    "train['Loan_Status'].replace('Y',1,inplace=True)\n",
    "train['Loan_Status'].replace('N',0,inplace=True)"
   ]
  },
  {
   "cell_type": "code",
   "execution_count": null,
   "id": "22a34435",
   "metadata": {},
   "outputs": [],
   "source": [
    "correlation=train.corr()"
   ]
  },
  {
   "cell_type": "code",
   "execution_count": null,
   "id": "0f1c3797",
   "metadata": {},
   "outputs": [],
   "source": [
    "f,ax=plt.subplots(figsize=(9,6))\n",
    "sns.heatmap(correlation,vmax=1,cmap='BuPu')"
   ]
  },
  {
   "cell_type": "markdown",
   "id": "3572c7bc",
   "metadata": {},
   "source": [
    "We see that most correlated variables are ApplicantIncome-LoanAmount,Credit_History-Loan_Status and LoanAmount-CoapplicantIncome."
   ]
  },
  {
   "cell_type": "markdown",
   "id": "46805494",
   "metadata": {},
   "source": [
    "MISSING VALUES TREATMENT"
   ]
  },
  {
   "cell_type": "code",
   "execution_count": null,
   "id": "1d3e1cba",
   "metadata": {},
   "outputs": [],
   "source": [
    "train.dtypes"
   ]
  },
  {
   "cell_type": "code",
   "execution_count": null,
   "id": "33dd76c3",
   "metadata": {
    "scrolled": true
   },
   "outputs": [],
   "source": [
    "train.isnull().sum()"
   ]
  },
  {
   "cell_type": "code",
   "execution_count": null,
   "id": "1f2f2294",
   "metadata": {},
   "outputs": [],
   "source": [
    "train['Gender']=train['Gender'].fillna(train['Gender'].mode())\n",
    "train['Married']=train['Married'].fillna(train['Married'].mode())\n",
    "train['Dependents']=train['Dependents'].fillna(train['Dependents'].mode())\n",
    "train['Self_Employed']=train['Self_Employed'].fillna(train['Self_Employed'].mode())"
   ]
  },
  {
   "cell_type": "code",
   "execution_count": null,
   "id": "3c3b55ac",
   "metadata": {},
   "outputs": [],
   "source": [
    "train['Gender'] = np.where(train['Gender']==np.nan, train['Gender'].mode()[0], train['Gender'])"
   ]
  },
  {
   "cell_type": "code",
   "execution_count": null,
   "id": "bfec7c46",
   "metadata": {},
   "outputs": [],
   "source": []
  },
  {
   "cell_type": "code",
   "execution_count": null,
   "id": "8d92310b",
   "metadata": {},
   "outputs": [],
   "source": []
  },
  {
   "cell_type": "code",
   "execution_count": null,
   "id": "13327584",
   "metadata": {},
   "outputs": [],
   "source": []
  },
  {
   "cell_type": "code",
   "execution_count": null,
   "id": "ffe0223a",
   "metadata": {},
   "outputs": [],
   "source": [
    "train.isnull().sum()"
   ]
  },
  {
   "cell_type": "code",
   "execution_count": null,
   "id": "41dba193",
   "metadata": {},
   "outputs": [],
   "source": [
    "train['LoanAmount']=train['LoanAmount'].fillna(train['LoanAmount'].median(),inplace=True)"
   ]
  },
  {
   "cell_type": "code",
   "execution_count": null,
   "id": "5d8bb8f5",
   "metadata": {},
   "outputs": [],
   "source": [
    "train.isnull().sum()"
   ]
  },
  {
   "cell_type": "code",
   "execution_count": null,
   "id": "93a6f227",
   "metadata": {},
   "outputs": [],
   "source": [
    "train['Gender']=train['Gender'].fillna(train['Gender'].mode(),inplace=True)"
   ]
  },
  {
   "cell_type": "code",
   "execution_count": null,
   "id": "e9c98ca0",
   "metadata": {},
   "outputs": [],
   "source": [
    "train['Gender'].mode()"
   ]
  },
  {
   "cell_type": "code",
   "execution_count": null,
   "id": "1b5c10f2",
   "metadata": {},
   "outputs": [],
   "source": [
    "train.isnull().sum()"
   ]
  },
  {
   "cell_type": "code",
   "execution_count": null,
   "id": "40c83042",
   "metadata": {},
   "outputs": [],
   "source": [
    "train['Married'].mode()"
   ]
  },
  {
   "cell_type": "code",
   "execution_count": null,
   "id": "8e7d1204",
   "metadata": {},
   "outputs": [],
   "source": [
    "train['Married']=train['Married'].fillna(train['Married'].mode(),inplace=True)"
   ]
  },
  {
   "cell_type": "code",
   "execution_count": null,
   "id": "c1af71aa",
   "metadata": {},
   "outputs": [],
   "source": [
    "train.isnull().sum()"
   ]
  },
  {
   "cell_type": "code",
   "execution_count": null,
   "id": "cee960b4",
   "metadata": {},
   "outputs": [],
   "source": []
  },
  {
   "cell_type": "code",
   "execution_count": null,
   "id": "d9263ca9",
   "metadata": {},
   "outputs": [],
   "source": []
  }
 ],
 "metadata": {
  "kernelspec": {
   "display_name": "Python 3 (ipykernel)",
   "language": "python",
   "name": "python3"
  },
  "language_info": {
   "codemirror_mode": {
    "name": "ipython",
    "version": 3
   },
   "file_extension": ".py",
   "mimetype": "text/x-python",
   "name": "python",
   "nbconvert_exporter": "python",
   "pygments_lexer": "ipython3",
   "version": "3.11.5"
  },
  "toc": {
   "base_numbering": 1,
   "nav_menu": {},
   "number_sections": true,
   "sideBar": true,
   "skip_h1_title": false,
   "title_cell": "Table of Contents",
   "title_sidebar": "Contents",
   "toc_cell": false,
   "toc_position": {},
   "toc_section_display": true,
   "toc_window_display": false
  }
 },
 "nbformat": 4,
 "nbformat_minor": 5
}
