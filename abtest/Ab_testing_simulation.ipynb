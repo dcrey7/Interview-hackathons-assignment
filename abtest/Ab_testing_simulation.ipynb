{
 "cells": [
  {
   "cell_type": "code",
   "execution_count": 34,
   "id": "a5bb7354",
   "metadata": {},
   "outputs": [],
   "source": [
    "import pandas as pd\n",
    "import numpy as np\n",
    "import scipy.stats as st\n",
    "\n",
    "import matplotlib.pyplot as plt\n",
    "import plotly.express as px\n",
    "import seaborn as sns\n",
    "\n",
    "\n",
    "# For explicitly displaying widgets\n",
    "from IPython.display import display\n",
    "\n",
    "# Just need these for the demo purposes here\n",
    "from datetime import datetime\n",
    "\n",
    "import matplotlib.pyplot as plt\n",
    "import seaborn as sns\n",
    "import numpy as np\n",
    "from ipywidgets import interact, widgets\n"
   ]
  },
  {
   "cell_type": "code",
   "execution_count": 35,
   "id": "3c2869dc",
   "metadata": {},
   "outputs": [],
   "source": [
    "import warnings\n",
    "warnings.filterwarnings('ignore')"
   ]
  },
  {
   "cell_type": "markdown",
   "id": "1b777c70",
   "metadata": {},
   "source": [
    "- https://github.com/kapilkd13/Ab_testing/blob/main/Ab_testing_simulation.ipynb\n",
    "- https://www.youtube.com/watch?v=oZ0rTbByECo\n"
   ]
  },
  {
   "cell_type": "markdown",
   "id": "aa48b444",
   "metadata": {},
   "source": [
    "## HELPER FUNCTIONS"
   ]
  },
  {
   "cell_type": "markdown",
   "id": "acb1ebb7",
   "metadata": {},
   "source": [
    "\n",
    "\\\\(N= \\frac{(Z_{1-\\alpha/2}*\\sqrt{{2}*\\sigma^2_{control}}  +Z_{1-\\beta}*\\sqrt{\\sigma^2_{control} + \\sigma^2_{treatment}})^2 }{\\delta^2} \\\\)\n"
   ]
  },
  {
   "cell_type": "code",
   "execution_count": 36,
   "id": "d6b1532e",
   "metadata": {},
   "outputs": [],
   "source": [
    "from scipy.stats import norm\n",
    "import numpy as np\n",
    "\n",
    "class BinomialSatherwaiteSampleSize:\n",
    "    def __init__(self,baseline_conversion, delta, alpha=0.05, beta=0.2, tailed=\"two_tailed\"):\n",
    "        self.baseline_conversion=baseline_conversion\n",
    "        self.delta=delta\n",
    "        self.alpha=alpha\n",
    "        self.beta=beta\n",
    "        self.treatment_conversion=self.baseline_conversion+self.delta\n",
    "        self.tailed=tailed\n",
    "#         print(self.baseline_conversion, self.delta, self.beta )\n",
    "    def get_sample_size(self):\n",
    "        control_variance=self.baseline_conversion*(1-self.baseline_conversion)\n",
    "        treatment_variance=self.treatment_conversion*(1-self.treatment_conversion)\n",
    "\n",
    "        if self.tailed==\"two_tailed\":\n",
    "            control_zscore=norm.ppf(1-self.alpha/2)\n",
    "        elif self.tailed==\"one_tailed\":\n",
    "            control_zscore=norm.ppf(1-self.alpha)\n",
    "        else:\n",
    "            raise Exception(\"Wrong input for tailed, select one of [one_tailed,two_tailed]\")\n",
    "\n",
    "        treatment_zscore=norm.ppf(1-self.beta)\n",
    "        sample_size=int(np.rint(np.power((control_zscore*np.sqrt(2*control_variance) + treatment_zscore*np.sqrt(control_variance + treatment_variance)), 2)/np.power(self.delta,2)))\n",
    "        return sample_size\n",
    "  \n",
    "  \n",
    "class BinomialPooledSampleSize:\n",
    "    def __init__(self,baseline_conversion, delta, alpha=0.05, beta=0.2, tailed=\"two_tailed\"):\n",
    "        self.baseline_conversion=baseline_conversion\n",
    "        self.delta=delta\n",
    "        self.alpha=alpha\n",
    "        self.beta=beta\n",
    "        self.treatment_conversion=self.baseline_conversion+self.delta\n",
    "        self.tailed=tailed\n",
    "    def get_sample_size(self):\n",
    "        pooled_conversion=(self.baseline_conversion+ self.treatment_conversion)/2\n",
    "        pooled_variance=pooled_conversion*(1-pooled_conversion)\n",
    "\n",
    "        if self.tailed==\"two_tailed\":\n",
    "            control_zscore=norm.ppf(1-self.alpha/2)\n",
    "        elif self.tailed==\"one_tailed\":\n",
    "            control_zscore=norm.ppf(1-self.alpha)\n",
    "        else:\n",
    "            raise Exception(\"Wrong input for tailed, select one of [one_tailed,two_tailed]\")\n",
    "        treatment_zscore=norm.ppf(1-self.beta)\n",
    "        sample_size=int(np.rint(2*pooled_variance*np.power((control_zscore + treatment_zscore), 2)/np.power(self.delta,2)))\n",
    "        return sample_size\n",
    "\n",
    "class ContinuousSampleSize:\n",
    "    def __init__(self,baseline_mean, baseline_std, delta, alpha=0.05, beta=0.2, tailed=\"two_tailed\"):\n",
    "        self.baseline_mean=baseline_mean\n",
    "        self.baseline_std=baseline_std\n",
    "        self.delta=delta\n",
    "        self.alpha=alpha\n",
    "        self.beta=beta\n",
    "        self.treatment_mean=self.baseline_mean+self.delta\n",
    "        self.tailed=tailed\n",
    "    \n",
    "    def get_sample_size(self):\n",
    "        treatment_mean=self.baseline_mean+ self.delta\n",
    "        if self.tailed==\"two_tailed\":\n",
    "            control_zscore=norm.ppf(1-self.alpha/2)\n",
    "        elif self.tailed==\"one_tailed\":\n",
    "            control_zscore=norm.ppf(1-self.alpha)\n",
    "        else:\n",
    "            raise Exception(\"Wrong input for tailed, select one of [one_tailed,two_tailed]\")\n",
    "        treatment_zscore=norm.ppf(1-self.beta)\n",
    "\n",
    "        sample_size=int(np.rint(2*self.baseline_std*self.baseline_std*np.power((control_zscore + treatment_zscore), 2)/np.power(self.delta,2)))\n",
    "        return sample_size\n"
   ]
  },
  {
   "cell_type": "code",
   "execution_count": 37,
   "id": "899d94ae",
   "metadata": {},
   "outputs": [],
   "source": [
    "class PostExperimentAnalysisContinuous:\n",
    "    def __init__(self,alpha, N_control, N_treatment, mean_control, mean_treatment, var_control, var_treatment, tailed=\"two_tailed\"):\n",
    "        self.alpha=alpha\n",
    "        self.N_control=N_control\n",
    "        self.N_treatment=N_treatment\n",
    "        self.mean_control=mean_control\n",
    "        self.mean_treatment=mean_treatment\n",
    "        self.var_control=var_control\n",
    "        self.var_treatment=var_treatment\n",
    "        self.tailed=tailed\n",
    "    \n",
    "    def analyze_data(self):\n",
    "        \n",
    "        print(np.sqrt(self.var_control/self.N_control + self.var_treatment/self.N_treatment))\n",
    "        # Pooled Variance\n",
    "        se_pooled = np.sqrt(self.var_control/self.N_control + self.var_treatment/self.N_treatment)\n",
    "\n",
    "        # Test statistics\n",
    "        test_statistic = (self.mean_treatment-self.mean_control)/se_pooled\n",
    "        \n",
    "        if self.tailed==\"two_tailed\":\n",
    "            p_value = norm.sf(test_statistic)*2\n",
    "            z_critical  = norm.ppf(1-self.alpha/2)\n",
    "        elif self.tailed==\"one_tailed\":\n",
    "            p_value = norm.sf(test_statistic)\n",
    "            z_critical  = norm.ppf(1-self.alpha)\n",
    "            \n",
    "        else:\n",
    "            raise Exception(\"Wrong input for tailed, select one of [one_tailed,two_tailed]\")\n",
    "        \n",
    "\n",
    "        m = z_critical*se_pooled\n",
    "\n",
    "        # Confidence Interval\n",
    "        delta=( self.mean_treatment- self.mean_control)\n",
    "        CI = [delta - m, delta + m]\n",
    "\n",
    "        return {\"p_value\":p_value, \"test_statistic\":test_statistic, \"delta\":delta ,\"CI_lower_bound\":CI[0],\"CI_upper_bound\":CI[1]}\n",
    "\n"
   ]
  },
  {
   "cell_type": "code",
   "execution_count": 38,
   "id": "354ba54b",
   "metadata": {},
   "outputs": [],
   "source": [
    "\n",
    "\n",
    "class PostExperimentAnalysisProportion:\n",
    "    def __init__(self,alpha, N_control, N_treatment, N_control_pos, N_treatment_pos, tailed=\"two_tailed\"):\n",
    "        self.alpha=alpha\n",
    "        self.N_control=N_control\n",
    "        self.N_treatment=N_treatment\n",
    "        self.N_control_pos=N_control_pos\n",
    "        self.N_treatment_pos=N_treatment_pos\n",
    "        self.tailed=tailed\n",
    "    \n",
    "    def analyze_data(self):\n",
    "        \n",
    "        mean_control= self.N_control_pos/self.N_control\n",
    "        mean_treatment= self.N_treatment_pos/self.N_treatment\n",
    "        mean_pooled=(self.N_control_pos+self.N_treatment_pos)/(self.N_control+ self.N_treatment)\n",
    "        var_pooled=mean_pooled*(1-mean_pooled)*(1/self.N_control +1/self.N_treatment)\n",
    "        \n",
    "        # Pooled SE\n",
    "        se_pooled = np.sqrt(var_pooled)\n",
    "\n",
    "        # Test statistics\n",
    "        test_statistic = (mean_treatment-mean_control)/se_pooled\n",
    "        \n",
    "        if self.tailed==\"two_tailed\":\n",
    "            p_value = norm.sf(test_statistic)*2\n",
    "            z_critical  = norm.ppf(1-self.alpha/2)\n",
    "        elif self.tailed==\"one_tailed\":\n",
    "            p_value = norm.sf(test_statistic)\n",
    "            z_critical  = norm.ppf(1-self.alpha)\n",
    "            \n",
    "        else:\n",
    "            raise Exception(\"Wrong input for tailed, select one of [one_tailed,two_tailed]\")\n",
    "        \n",
    "\n",
    "        m = z_critical*se_pooled\n",
    "\n",
    "        # Confidence Interval\n",
    "        delta=(mean_treatment- mean_control)\n",
    "        CI = [delta - m, delta + m]\n",
    "\n",
    "        return {\"p_value\":p_value, \"test_statistic\":test_statistic, \"delta\":delta ,\"CI_lower_bound\":CI[0],\"CI_upper_bound\":CI[1]}\n",
    "\n"
   ]
  },
  {
   "cell_type": "code",
   "execution_count": 39,
   "id": "2788fc06",
   "metadata": {},
   "outputs": [
    {
     "name": "stdout",
     "output_type": "stream",
     "text": [
      "0.31804297340774135\n"
     ]
    },
    {
     "data": {
      "text/plain": [
       "{'p_value': 0.5770497014699533,\n",
       " 'test_statistic': 0.5576993502182948,\n",
       " 'delta': 0.17737235961099174,\n",
       " 'CI_lower_bound': -0.4459804138042115,\n",
       " 'CI_upper_bound': 0.800725133026195}"
      ]
     },
     "execution_count": 39,
     "metadata": {},
     "output_type": "execute_result"
    }
   ],
   "source": [
    "alpha=0.05\n",
    "tailed=\"two_tailed\"\n",
    "N_control=500\n",
    "N_treatment= 500\n",
    "data_control= np.random.normal(loc=50, scale=5,  size = N_control)\n",
    "data_treatment= np.random.normal(loc=50, scale=5,  size = N_treatment)\n",
    "\n",
    "mean_control=np.mean(data_control)\n",
    "var_control=np.var(data_control)\n",
    "\n",
    "\n",
    "mean_treatment=np.mean(data_treatment)\n",
    "var_treatment=np.var(data_treatment)\n",
    "\n",
    "post_analysis_continuous=PostExperimentAnalysisContinuous(alpha, N_control, N_treatment, mean_control, \n",
    "                        mean_treatment, var_control, var_treatment, tailed=tailed)\n",
    "post_analysis_continuous.analyze_data()"
   ]
  },
  {
   "cell_type": "code",
   "execution_count": 40,
   "id": "81e463df",
   "metadata": {},
   "outputs": [
    {
     "data": {
      "text/plain": [
       "{'p_value': 3.552964224155714e-33,\n",
       " 'test_statistic': 11.999999999999991,\n",
       " 'delta': 0.15999999999999992,\n",
       " 'CI_lower_bound': 0.1338671468727992,\n",
       " 'CI_upper_bound': 0.18613285312720065}"
      ]
     },
     "execution_count": 40,
     "metadata": {},
     "output_type": "execute_result"
    }
   ],
   "source": [
    "alpha=0.05\n",
    "tailed=\"two_tailed\"\n",
    "N_control=1000\n",
    "N_control_pos= 800\n",
    "N_treatment= 1250\n",
    "N_treatment_pos= 1200\n",
    "\n",
    "\n",
    "mean_control=N_control_pos/N_control\n",
    "mean_treatment=N_treatment_pos/N_treatment\n",
    "\n",
    "\n",
    "\n",
    "post_analysis_proportion= PostExperimentAnalysisProportion(alpha, N_control, N_treatment, N_control_pos, N_treatment_pos, tailed=\"two_tailed\")\n",
    "post_analysis_proportion.analyze_data()"
   ]
  },
  {
   "cell_type": "markdown",
   "id": "765af174",
   "metadata": {},
   "source": [
    "#### Cuped simulation"
   ]
  },
  {
   "cell_type": "code",
   "execution_count": 41,
   "id": "8554fb8d",
   "metadata": {},
   "outputs": [],
   "source": [
    "# Continuous Example\n",
    "\n",
    "import numpy as np\n",
    "import pandas as pd\n",
    "\n",
    "class SimulateCupedContinuous:\n",
    "    \n",
    "    def __init__(self, N_users, split_ratio, control_mean, control_std, treatment_lift, random_effect_std):\n",
    "        self.N_users=N_users\n",
    "        self.split_ratio=split_ratio\n",
    "        self.control_mean=control_mean\n",
    "        self.control_std=control_std\n",
    "        self.treatment_lift=treatment_lift\n",
    "        self.random_effect_std=random_effect_std\n",
    "        \n",
    "    def get_cuped_adjusted(self,T_before, T_after, C_before, C_after):\n",
    "  \n",
    "        covariance = np.cov([T_after + C_after, C_before + T_before])\n",
    "        theta = covariance[0, 1] / covariance[1, 1]\n",
    "        mean_before = np.mean(T_before + C_before)\n",
    "        T_after_adjusted = [after - (before - mean_before) * theta for after, before in zip(T_after, T_before)]\n",
    "        C_after_adjusted = [after - (before - mean_before) * theta for after, before in zip(C_after, C_before)]\n",
    "        return T_after_adjusted, C_after_adjusted\n",
    "    \n",
    "    def analyze_data(self):\n",
    "        \n",
    "        \n",
    "        treatment_user_count=int(self.N_users*self.split_ratio)\n",
    "        control_user_count=total_users- treatment_user_count\n",
    "\n",
    "\n",
    "        user_ids=range(total_users)\n",
    "        pre_experiment_data=np.random.normal(self.control_mean, self.control_std, self.N_users)\n",
    "        performance_df= pd.DataFrame({\"user_id\":user_ids, \"pre_experiment_data\":pre_experiment_data})\n",
    "\n",
    "        # randomly assign x percent people to treatment\n",
    "        treatment_users=np.random.choice(user_ids, treatment_user_count, replace=False)\n",
    "\n",
    "        performance_df[\"treatment\"]=performance_df[\"user_id\"].apply(lambda x: 1 if x in treatment_users else 0)\n",
    "        performance_df[\"post_experiment_data\"]=performance_df[[\"pre_experiment_data\",\"treatment\"]].apply(lambda x: x[0]\n",
    "                                                +np.random.normal(0, self.random_effect_std)+ self.treatment_lift if x[1]==1 else x[0]+np.random.normal(0, self.random_effect_std), axis=1)\n",
    "        \n",
    "        T_before=list(performance_df[performance_df[\"treatment\"]==1][\"pre_experiment_data\"])\n",
    "        T_after=list(performance_df[performance_df[\"treatment\"]==1][\"post_experiment_data\"])\n",
    "        C_before=list(performance_df[performance_df[\"treatment\"]==0][\"pre_experiment_data\"])\n",
    "        C_after=list(performance_df[performance_df[\"treatment\"]==0][\"post_experiment_data\"])\n",
    "#         print(np.cov([T_after + C_after, C_before + T_before]))\n",
    "        T_after_adjusted, C_after_adjusted= self.get_cuped_adjusted(T_before, T_after, C_before, C_after)\n",
    "        \n",
    "        print(\"pre experiment metrics\")\n",
    "        y_treat=performance_df[performance_df[\"treatment\"]==1][\"pre_experiment_data\"]\n",
    "        print(f\"treatment metrics: mean: {np.mean(y_treat)}, var: {np.var(y_treat)}\")\n",
    "\n",
    "        y_control=performance_df[performance_df[\"treatment\"]==0][\"pre_experiment_data\"]\n",
    "        print(f\"control metrics: mean: {np.mean(y_control)}, var: {np.var(y_control)}\")\n",
    "\n",
    "\n",
    "        print(\"post experiment metrics\")\n",
    "        y_treat=performance_df[performance_df[\"treatment\"]==1][\"post_experiment_data\"]\n",
    "        print(f\"treatment metrics: mean: {np.mean(y_treat)}, var: {np.var(y_treat)}\")\n",
    "\n",
    "        y_control=performance_df[performance_df[\"treatment\"]==0][\"post_experiment_data\"]\n",
    "        print(f\"control metrics: mean: {np.mean(y_control)}, var: {np.var(y_control)}\")\n",
    "        \n",
    "        print(\"post experiment metrics: After CUPED Application\")\n",
    "        print(f\"treatment metrics: mean: {np.mean(T_after_adjusted)}, var: {np.var(T_after_adjusted)}\")\n",
    "        print(f\"control metrics: mean: {np.mean(C_after_adjusted)}, var: {np.var(C_after_adjusted)}\")\n",
    "        \n",
    "    \n",
    "total_users=1000\n",
    "treatment_ratio=0.5\n",
    "treatment_user_count=int(total_users*treatment_ratio)\n",
    "control_user_count=total_users- treatment_user_count\n",
    "\n",
    "random_effect_std=5\n",
    "prior_mean=50\n",
    "prior_std=10\n",
    "treatment_lift=2\n",
    "\n",
    "user_ids=range(total_users)\n",
    "pre_experiment_data=np.random.normal(prior_mean, prior_std, total_users)\n",
    "performance_df= pd.DataFrame({\"user_id\":user_ids, \"pre_experiment_data\":pre_experiment_data})\n",
    "\n",
    "# randomly assign 50 percent people to treatment\n",
    "treatment_users=np.random.choice(user_ids, treatment_user_count, replace=False)\n",
    "\n",
    "performance_df[\"treatment\"]=performance_df[\"user_id\"].apply(lambda x: 1 if x in treatment_users else 0)\n",
    "\n",
    "# treatment_user_df= pd.DataFrame({\"user_id\":user_ids, \"pre_experiment_data\":pre_experiment_data})\n",
    "\n",
    "performance_df[\"post_experiment_data\"]=performance_df[[\"pre_experiment_data\",\"treatment\"]].apply(lambda x: x[0]+np.random.normal(0, random_effect_std)+ treatment_lift if x[1]==1 else x[0]+np.random.normal(0, random_effect_std), axis=1)\n"
   ]
  },
  {
   "cell_type": "code",
   "execution_count": 42,
   "id": "c2d1e1d4",
   "metadata": {},
   "outputs": [
    {
     "name": "stdout",
     "output_type": "stream",
     "text": [
      "pre experiment metrics\n",
      "treatment metrics: mean: 50.142103441673015, var: 98.97653551485864\n",
      "control metrics: mean: 50.05086292070983, var: 94.86915083122362\n",
      "post experiment metrics\n",
      "treatment metrics: mean: 55.23545526671837, var: 124.74295909709186\n",
      "control metrics: mean: 50.02519443024743, var: 118.34701163482147\n",
      "post experiment metrics: After CUPED Application\n",
      "treatment metrics: mean: 55.235174332415845, var: 123.55438139513056\n",
      "control metrics: mean: 50.02547536454996, var: 117.20995849791889\n"
     ]
    }
   ],
   "source": [
    "total_users=1000\n",
    "treatment_ratio=0.5\n",
    "control_mean=50\n",
    "control_std=10\n",
    "treatment_lift=5\n",
    "random_effect_std= 5\n",
    "sim_cuped=SimulateCupedContinuous(total_users, treatment_ratio,control_mean, control_std, treatment_lift, random_effect_std)\n",
    "\n",
    "sim_cuped.analyze_data()"
   ]
  },
  {
   "cell_type": "code",
   "execution_count": 43,
   "id": "a1a344d0",
   "metadata": {},
   "outputs": [],
   "source": [
    "## Concepts"
   ]
  },
  {
   "cell_type": "code",
   "execution_count": 44,
   "id": "a97ec8a6",
   "metadata": {},
   "outputs": [
    {
     "data": {
      "image/png": "[encoded data removed]",
      "text/plain": [
       "<Figure size 640x480 with 1 Axes>"
      ]
     },
     "metadata": {},
     "output_type": "display_data"
    },
    {
     "data": {
      "application/vnd.jupyter.widget-view+json": {
       "model_id": "07f254864c704c2db0337a846c4d687e",
       "version_major": 2,
       "version_minor": 0
      },
      "text/plain": [
       "interactive(children=(FloatSlider(value=0.05, description='Significance level', max=1.0, min=0.01, step=0.01, …"
      ]
     },
     "metadata": {},
     "output_type": "display_data"
    }
   ],
   "source": [
    "alpha = widgets.FloatSlider(min=0.01, max=1, step=0.01, value=0.05, description='Significance level',style= {'description_width': 'initial'})\n",
    "\n",
    "control_mean = widgets.IntSlider(min=1, max=100, step=1, value=50, description='control_mean')\n",
    "treatment_mean = widgets.IntSlider(min=1, max=100, step=1, value=65, description='treatment_mean', style= {'description_width': 'initial'})\n",
    "\n",
    "control_std = widgets.IntSlider(min=1, max=100, step=1, value=5, description='control_std', style= {'description_width': 'initial'})\n",
    "treatment_std = widgets.IntSlider(min=1, max=100, step=1, value=5,  description='treatment_std', style= {'description_width': 'initial'})\n",
    "\n",
    "control_sample_size = widgets.IntSlider(min=50, max=100000, step=50, value=1000,  description='control_sample_size', style= {'description_width': 'initial'})\n",
    "treatment_sample_size = widgets.IntSlider(min=50, max=100000, step=50, value=1000,  description='treatment_sample_size', style= {'description_width': 'initial'})\n",
    "\n",
    "# Specifying the handler for the n argument in the function\n",
    "@interact(alpha=alpha,control_mean = control_mean, treatment_mean = treatment_mean, control_std=control_std,\n",
    "          treatment_std=treatment_std, control_sample_size=control_sample_size, \n",
    "          treatment_sample_size=treatment_sample_size )\n",
    "def plot_random_scatterplot(alpha, control_mean, treatment_mean,control_std, treatment_std, control_sample_size, treatment_sample_size):\n",
    "  \n",
    "   \n",
    "    control_data = np.random.normal(loc=control_mean, scale=control_std, size=control_sample_size)\n",
    "    treatment_data = np.random.normal(loc=treatment_mean, scale=treatment_std, size=treatment_sample_size)\n",
    "#     bins = int(np.sqrt(len(control_data)))\n",
    "    ax1=sns.distplot(control_data , hist=False )\n",
    "    ax2=sns.distplot(treatment_data, hist=False)\n",
    "    kde_x1, kde_y1 = ax1.lines[0].get_data()\n",
    "    kde_x2, kde_y2 = ax2.lines[1].get_data()\n",
    "#     print(kde_y1,kde_y2)\n",
    "    #plotting the two lines\n",
    "    \n",
    "#     poi1,poi2=find_intersection_points(ax1, ax2,control_mean)\n",
    "\n",
    "    poi1= np.mean(control_data)+norm.ppf(1-alpha)*np.std(control_data)\n",
    "#     print(poi1,poi2)\n",
    "#     x0=40\n",
    "#     \n",
    "\n",
    "    if poi1!=None:\n",
    "        p1 = plt.axvline(x=poi1,color='#EF9A9A')\n",
    "#         p2 = plt.axvline(x=poi2,color='#EF9A9A')\n",
    "        \n",
    "        ax1.fill_between(kde_x1, kde_y1, where=(kde_x1>poi1) , \n",
    "                        interpolate=True, color='#EF9A9A')\n",
    "        \n",
    "        ax2.fill_between(kde_x2, kde_y2, where=((kde_x2<poi1)) , \n",
    "                        interpolate=True, color='#0F9A9A')\n",
    "\n",
    "    plt.title('Control vs Treatment sampled mean distribution')\n",
    "    plt.xlabel('data')\n",
    "    plt.ylabel('density')"
   ]
  },
  {
   "cell_type": "markdown",
   "id": "c2e19c21",
   "metadata": {},
   "source": [
    "#### CLT"
   ]
  },
  {
   "cell_type": "code",
   "execution_count": 21,
   "id": "d3692fbc",
   "metadata": {},
   "outputs": [
    {
     "data": {
      "image/png": "[encoded data removed]",
      "text/plain": [
       "<Figure size 640x480 with 1 Axes>"
      ]
     },
     "metadata": {},
     "output_type": "display_data"
    },
    {
     "data": {
      "application/vnd.jupyter.widget-view+json": {
       "model_id": "e5e4bb1c3e244059a4ab49a415534daa",
       "version_major": 2,
       "version_minor": 0
      },
      "text/plain": [
       "interactive(children=(IntSlider(value=100, description='N_simulation', max=1000, min=1, step=5, style=SliderSt…"
      ]
     },
     "metadata": {},
     "output_type": "display_data"
    }
   ],
   "source": [
    "\n",
    "\n",
    "N_simulation = widgets.IntSlider(min=1, max=1000, step=5, value=100, description='N_simulation',style= {'description_width': 'initial'})\n",
    "sample_size = widgets.IntSlider(min=1, max=1000, step=5, value=100, description='sample_size',style= {'description_width': 'initial'})\n",
    "\n",
    "low = widgets.IntSlider(min=0, max=100, step=1, value=0, description='low',style= {'description_width': 'initial'})\n",
    "high = widgets.IntSlider(min=1, max=100, step=1, value=1, description='high',style= {'description_width': 'initial'})\n",
    "\n",
    "\n",
    "# Specifying the handler for the argument in the function\n",
    "@interact(N_simulation=N_simulation,sample_size=sample_size, low=low, high=high )\n",
    "def CLT_simulation(N_simulation, sample_size, low, high):\n",
    "    \n",
    "    \n",
    "    mean_list=[]\n",
    "    for x in range(N_simulation):\n",
    "        data=np.random.uniform(low=low,high=high,size=sample_size)\n",
    "        mean_list.append(np.mean(data))\n",
    "        \n",
    "    ax1=sns.distplot(mean_list , hist=False )\n",
    "    plt.title('CLT')\n",
    "    plt.xlabel('Sample mean')\n",
    "    plt.ylabel('density')"
   ]
  },
  {
   "cell_type": "markdown",
   "id": "a1d63274",
   "metadata": {},
   "source": [
    "### Delta distribution"
   ]
  },
  {
   "cell_type": "code",
   "execution_count": 46,
   "id": "10201704",
   "metadata": {},
   "outputs": [
    {
     "data": {
      "image/png": "[encoded data removed]",
      "text/plain": [
       "<Figure size 640x480 with 1 Axes>"
      ]
     },
     "metadata": {},
     "output_type": "display_data"
    },
    {
     "data": {
      "application/vnd.jupyter.widget-view+json": {
       "model_id": "73845435e3794d67a7c412352dc15e2b",
       "version_major": 2,
       "version_minor": 0
      },
      "text/plain": [
       "interactive(children=(IntSlider(value=50, description='control_mean', min=1), IntSlider(value=55, description=…"
      ]
     },
     "metadata": {},
     "output_type": "display_data"
    }
   ],
   "source": [
    "control_mean = widgets.IntSlider(min=1, max=100, step=1, value=50, description='control_mean')\n",
    "treatment_mean = widgets.IntSlider(min=1, max=100, step=1, value=55, description='treatment_mean', style= {'description_width': 'initial'})\n",
    "\n",
    "control_std = widgets.IntSlider(min=1, max=100, step=1, value=5, description='control_std', style= {'description_width': 'initial'})\n",
    "treatment_std = widgets.IntSlider(min=1, max=100, step=1, value=5,  description='treatment_std', style= {'description_width': 'initial'})\n",
    "\n",
    "sample_size = widgets.IntSlider(min=50, max=100000, step=50, value=1000,  description='sample_size', style= {'description_width': 'initial'})\n",
    "# treatment_sample_size = widgets.IntSlider(min=50, max=100000, step=50, value=1000,  description='treatment_sample_size', style= {'description_width': 'initial'})\n",
    "\n",
    "# Specifying the handler for the argument in the function\n",
    "@interact(control_mean = control_mean, treatment_mean = treatment_mean, control_std=control_std,\n",
    "          treatment_std=treatment_std,sample_size=sample_size )\n",
    "def plot_delta_distribution(control_mean, treatment_mean,control_std, treatment_std, sample_size):\n",
    "  \n",
    "   \n",
    "    control_data = np.random.normal(loc=control_mean, scale=control_std, size=sample_size)\n",
    "    treatment_data = np.random.normal(loc=treatment_mean, scale=treatment_std, size=sample_size)\n",
    "    delta_data=np.subtract(treatment_data, control_data)\n",
    "    \n",
    "#     bins = int(np.sqrt(len(control_data)))\n",
    "    ax1=sns.distplot(delta_data , hist=False )\n",
    "   \n",
    "\n",
    "    # Adding some labels\n",
    "    plt.title('Delta(Treatment- Control) sampled mean distribution')\n",
    "    plt.xlabel('data')\n",
    "    plt.ylabel('density')\n",
    "    \n"
   ]
  },
  {
   "cell_type": "markdown",
   "id": "7e2edc1a",
   "metadata": {},
   "source": [
    "### Sample size calculator: Proportion metric"
   ]
  },
  {
   "cell_type": "code",
   "execution_count": 14,
   "id": "9e48a12a",
   "metadata": {},
   "outputs": [
    {
     "name": "stdout",
     "output_type": "stream",
     "text": [
      "At alpha:0.05, beta: 0.2, baseline_conversion: 0.3, absolute_delta:0.02\n",
      "          You will need 8286 samples per variation\n"
     ]
    },
    {
     "data": {
      "application/vnd.jupyter.widget-view+json": {
       "model_id": "fa335e9ab9de475bbe5e7dd6084247f9",
       "version_major": 2,
       "version_minor": 0
      },
      "text/plain": [
       "interactive(children=(FloatSlider(value=0.05, description='alpha', max=1.0, min=0.01, step=0.01, style=SliderS…"
      ]
     },
     "metadata": {},
     "output_type": "display_data"
    }
   ],
   "source": [
    "alpha = widgets.FloatSlider(min=0.01, max=1, step=0.01, value=0.05, description='alpha',style= {'description_width': 'initial'})\n",
    "beta = widgets.FloatSlider(min=0.01, max=1, step=0.01, value=0.2, description='beta',style= {'description_width': 'initial'})\n",
    "baseline_conversion = widgets.FloatSlider(min=0.01, max=1, step=0.01, value=0.3, description='baseline_conversion',style= {'description_width': 'initial'})\n",
    "delta = widgets.FloatSlider(min=0.01, max=1, step=0.01, value=0.02, description='absolute delta', style= {'description_width': 'initial'})\n",
    "\n",
    "tail_dropdown = widgets.Dropdown(\n",
    "    options= [\"one_tailed\", \"two_tailed\"],\n",
    "    index=1,           \n",
    "    disabled=False,        \n",
    "    description='experiment_type'  ,style= {'description_width': 'initial'}\n",
    ")\n",
    "\n",
    "\n",
    "# Specifying the handler for the argument in the function\n",
    "@interact(alpha = alpha, beta = beta, baseline_conversion=baseline_conversion,\n",
    "          delta=delta, tail_dropdown=tail_dropdown )\n",
    "def proportion_sample_size_calculator(alpha, beta , baseline_conversion,\n",
    "          delta, tail_dropdown):\n",
    "  \n",
    "    ss_calculator=BinomialSatherwaiteSampleSize(baseline_conversion, delta, alpha=alpha, beta=beta, tailed=tail_dropdown)\n",
    "    sample_size=ss_calculator.get_sample_size()\n",
    "    print(f'''At alpha:{alpha}, beta: {beta}, baseline_conversion: {baseline_conversion}, absolute_delta:{delta}\n",
    "          You will need {sample_size} samples per variation''')\n",
    "    "
   ]
  },
  {
   "cell_type": "markdown",
   "id": "9dbb9a4e",
   "metadata": {},
   "source": [
    "### Sample size calculator: Continuous metric"
   ]
  },
  {
   "cell_type": "code",
   "execution_count": 15,
   "id": "e562aa00",
   "metadata": {},
   "outputs": [
    {
     "name": "stdout",
     "output_type": "stream",
     "text": [
      "At alpha:0.05, beta: 0.2, baseline_mean: 50, baseline_std: 5 , absolute_delta:5.0, hypothesis_type:two_tailed\n",
      "          You will need 16 samples per variation\n"
     ]
    },
    {
     "data": {
      "application/vnd.jupyter.widget-view+json": {
       "model_id": "3bb0229966cc4d8f8c55edf6c638115a",
       "version_major": 2,
       "version_minor": 0
      },
      "text/plain": [
       "interactive(children=(FloatSlider(value=0.05, description='alpha', max=1.0, min=0.01, step=0.01, style=SliderS…"
      ]
     },
     "metadata": {},
     "output_type": "display_data"
    }
   ],
   "source": [
    "alpha = widgets.FloatSlider(min=0.01, max=1, step=0.01, value=0.05, description='alpha',style= {'description_width': 'initial'})\n",
    "beta = widgets.FloatSlider(min=0.01, max=1, step=0.01, value=0.2, description='beta',style= {'description_width': 'initial'})\n",
    "baseline_mean = widgets.IntSlider(min=1, max=100, step=1, value=50, description='baseline_mean',style= {'description_width': 'initial'})\n",
    "baseline_std = widgets.IntSlider(min=1, max=1000, step=1, value=5, description='baseline_std',style= {'description_width': 'initial'})\n",
    "delta = widgets.FloatSlider(min=1, max=100, step=1, value=5, description='absolute delta', style= {'description_width': 'initial'})\n",
    "\n",
    "tail_dropdown = widgets.Dropdown(\n",
    "    options= [\"one_tailed\", \"two_tailed\"],\n",
    "    index=1,           \n",
    "    disabled=False,        \n",
    "    description='hypothesis_type'  ,style= {'description_width': 'initial'}\n",
    ")\n",
    "\n",
    "\n",
    "# Specifying the handler for the argument in the function\n",
    "@interact(alpha = alpha, beta = beta, baseline_mean=baseline_mean, baseline_std=baseline_std,\n",
    "          delta=delta, tail_dropdown=tail_dropdown )\n",
    "def proportion_sample_size_calculator(alpha, beta , baseline_mean,baseline_std,\n",
    "          delta, tail_dropdown):\n",
    "  \n",
    "    ss_calculator=ContinuousSampleSize(baseline_mean, baseline_std, delta, alpha=alpha, beta=beta, tailed=tail_dropdown)\n",
    "    sample_size=ss_calculator.get_sample_size()\n",
    "    print(f'''At alpha:{alpha}, beta: {beta}, baseline_mean: {baseline_mean}, baseline_std: {baseline_std} , absolute_delta:{delta}, hypothesis_type:{tail_dropdown}\n",
    "          You will need {sample_size} samples per variation''')\n",
    "    "
   ]
  },
  {
   "cell_type": "markdown",
   "id": "68ec9d49",
   "metadata": {},
   "source": [
    "### Post Experiment Analysis"
   ]
  },
  {
   "cell_type": "markdown",
   "id": "62d90e22",
   "metadata": {},
   "source": [
    "#### Continuous metric"
   ]
  },
  {
   "cell_type": "code",
   "execution_count": 16,
   "id": "de05e9ec",
   "metadata": {},
   "outputs": [
    {
     "name": "stdout",
     "output_type": "stream",
     "text": [
      "0.3145433743722212\n",
      " For above experiment setting: \n",
      "    You get\n",
      "    \t p_value: 1.9257143998086306e-71,\n",
      "    \t test-statistic: 17.87266484705857,\n",
      "    \t delta: 5.6217283100175806 with CI(95.0%):[5.005234624672328 <--> 6.238221995362833]\n"
     ]
    },
    {
     "data": {
      "application/vnd.jupyter.widget-view+json": {
       "model_id": "21372d3f87cd456cb34b8635b026662b",
       "version_major": 2,
       "version_minor": 0
      },
      "text/plain": [
       "interactive(children=(FloatSlider(value=0.05, description='alpha', max=1.0, min=0.01, step=0.01, style=SliderS…"
      ]
     },
     "metadata": {},
     "output_type": "display_data"
    }
   ],
   "source": [
    "alpha = widgets.FloatSlider(min=0.01, max=1, step=0.01, value=0.05, description='alpha',style= {'description_width': 'initial'})\n",
    "N_control = widgets.IntSlider(min=100, max=10000, step=10, value=500, description='Num_samples_control',style= {'description_width': 'initial'})\n",
    "N_treatment = widgets.IntSlider(min=100, max=10000, step=10, value=500, description='Num_samples_treatment',style= {'description_width': 'initial'})\n",
    "\n",
    "mean_control = widgets.IntSlider(min=1, max=100, step=1, value=50, description='control_mean',style= {'description_width': 'initial'})\n",
    "mean_treatment = widgets.IntSlider(min=1, max=100, step=1, value=55, description='treatment_mean',style= {'description_width': 'initial'})\n",
    "\n",
    "std_control = widgets.IntSlider(min=1, max=100, step=1, value=5, description='control_std',style= {'description_width': 'initial'})\n",
    "std_treatment = widgets.IntSlider(min=1, max=1000, step=1, value=5, description='treatment_std',style= {'description_width': 'initial'})\n",
    "\n",
    "tail_dropdown = widgets.Dropdown(\n",
    "    options= [\"one_tailed\", \"two_tailed\"],\n",
    "    index=1,           \n",
    "    disabled=False,        \n",
    "    description='hypothesis_type'  ,style= {'description_width': 'initial'}\n",
    ")\n",
    "\n",
    "\n",
    "# Specifying the handler for the argument in the function\n",
    "@interact(alpha = alpha, N_control=N_control, N_treatment=N_treatment, mean_control=mean_control, mean_treatment=mean_treatment,\n",
    "          std_control=std_control, std_treatment=std_treatment,  tail_dropdown=tail_dropdown )\n",
    "def post_experiment_analysis_continuous(alpha, N_control, N_treatment, mean_control, mean_treatment,\n",
    "          std_control, std_treatment, tail_dropdown):\n",
    "    \n",
    "    data_control= np.random.normal(loc=mean_control, scale=std_control,  size = N_control)\n",
    "    data_treatment= np.random.normal(loc=mean_treatment, scale=std_treatment,  size = N_treatment)\n",
    "    \n",
    "    mean_c=np.mean(data_control)\n",
    "    var_c=np.var(data_control)\n",
    "\n",
    "\n",
    "    mean_t=np.mean(data_treatment)\n",
    "    var_t=np.var(data_treatment)\n",
    "    \n",
    "#     print(N_control, N_treatment)\n",
    "#     print(np.sqrt(var_control/N_control + var_treatment/N_treatment))\n",
    "    post_analysis_continuous=PostExperimentAnalysisContinuous(alpha, N_control, N_treatment, mean_c, \n",
    "                        mean_t, var_c, var_t, tailed=tail_dropdown)\n",
    "    data=post_analysis_continuous.analyze_data()\n",
    "    print(f''' For above experiment setting: \n",
    "    You get\n",
    "    \\t p_value: {data[\"p_value\"]},\n",
    "    \\t test-statistic: {data[\"test_statistic\"]},\n",
    "    \\t delta: {data[\"delta\"]} with CI({(1-alpha)*100}%):[{data[\"CI_lower_bound\"]} <--> {data[\"CI_upper_bound\"]}]''')\n",
    "    "
   ]
  },
  {
   "cell_type": "markdown",
   "id": "597deb32",
   "metadata": {},
   "source": [
    "#### Proportional metric"
   ]
  },
  {
   "cell_type": "code",
   "execution_count": 22,
   "id": "03d2f0d0",
   "metadata": {},
   "outputs": [
    {
     "name": "stdout",
     "output_type": "stream",
     "text": [
      " For above experiment setting: \n",
      "    You get\n",
      "    \t p_value: 2.3733340626255564e-11,\n",
      "    \t test-statistic: 6.680990011245667,\n",
      "    \t delta: 0.14 with CI(95.0%):[0.09892899744293335 <--> 0.18107100255706668]\n"
     ]
    },
    {
     "data": {
      "application/vnd.jupyter.widget-view+json": {
       "model_id": "054821f4f5fc4882897a1e87c6eb543d",
       "version_major": 2,
       "version_minor": 0
      },
      "text/plain": [
       "interactive(children=(FloatSlider(value=0.05, description='alpha', max=1.0, min=0.01, step=0.01, style=SliderS…"
      ]
     },
     "metadata": {},
     "output_type": "display_data"
    }
   ],
   "source": [
    "alpha = widgets.FloatSlider(min=0.01, max=1, step=0.01, value=0.05, description='alpha',style= {'description_width': 'initial'})\n",
    "N_control = widgets.IntSlider(min=100, max=10000, step=10, value=1000, description='Num_samples_control',style= {'description_width': 'initial'})\n",
    "N_treatment = widgets.IntSlider(min=100, max=10000, step=10, value=1250, description='Num_samples_treatment',style= {'description_width': 'initial'})\n",
    "\n",
    "N_control_pos = widgets.IntSlider(min=100, max=10000, step=10, value=500, description='Num_samples_control_pos',style= {'description_width': 'initial'})\n",
    "N_treatment_pos = widgets.IntSlider(min=100, max=10000, step=10, value=800, description='Num_samples_treatment_pos',style= {'description_width': 'initial'})\n",
    "\n",
    "\n",
    "tail_dropdown = widgets.Dropdown(\n",
    "    options= [\"one_tailed\", \"two_tailed\"],\n",
    "    index=1,           \n",
    "    disabled=False,        \n",
    "    description='hypothesis_type'  ,style= {'description_width': 'initial'}\n",
    ")\n",
    "\n",
    "\n",
    "# Specifying the handler for the argument in the function\n",
    "@interact(alpha = alpha, N_control=N_control, N_treatment=N_treatment, N_control_pos=N_control_pos, N_treatment_pos=N_treatment_pos,\n",
    "          tail_dropdown=tail_dropdown )\n",
    "def post_experiment_analysis_continuous(alpha, N_control, N_treatment, N_control_pos, N_treatment_pos, tail_dropdown):\n",
    "    \n",
    "    post_analysis_proportion= PostExperimentAnalysisProportion(alpha, N_control, N_treatment, N_control_pos, N_treatment_pos, tailed=\"two_tailed\")\n",
    "    data=post_analysis_proportion.analyze_data()\n",
    "    print(f''' For above experiment setting: \n",
    "    You get\n",
    "    \\t p_value: {data[\"p_value\"]},\n",
    "    \\t test-statistic: {data[\"test_statistic\"]},\n",
    "    \\t delta: {data[\"delta\"]} with CI({(1-alpha)*100}%):[{data[\"CI_lower_bound\"]} <--> {data[\"CI_upper_bound\"]}]''')\n",
    "    "
   ]
  },
  {
   "cell_type": "code",
   "execution_count": 18,
   "id": "a2a266a3",
   "metadata": {},
   "outputs": [],
   "source": [
    "def simulate_experiment_data(baseline_conversion, delta, n_samples):\n",
    "\n",
    "    control_data= np.random.binomial(1,baseline_conversion, n_samples)\n",
    "    treatment_data= np.random.binomial(1,baseline_conversion+delta, n_samples)\n",
    "\n",
    "    simulated_df=pd.DataFrame({\"treatment\":([0]*len(control_data)+ [1]*len(treatment_data) ), \"value\":np.concatenate((control_data,treatment_data))})\n",
    "    return simulated_df"
   ]
  },
  {
   "cell_type": "code",
   "execution_count": 19,
   "id": "e4acce06",
   "metadata": {},
   "outputs": [
    {
     "data": {
      "text/html": [
       "<div>\n",
       "<style scoped>\n",
       "    .dataframe tbody tr th:only-of-type {\n",
       "        vertical-align: middle;\n",
       "    }\n",
       "\n",
       "    .dataframe tbody tr th {\n",
       "        vertical-align: top;\n",
       "    }\n",
       "\n",
       "    .dataframe thead th {\n",
       "        text-align: right;\n",
       "    }\n",
       "</style>\n",
       "<table border=\"1\" class=\"dataframe\">\n",
       "  <thead>\n",
       "    <tr style=\"text-align: right;\">\n",
       "      <th></th>\n",
       "      <th>treatment</th>\n",
       "      <th>value</th>\n",
       "    </tr>\n",
       "  </thead>\n",
       "  <tbody>\n",
       "    <tr>\n",
       "      <th>0</th>\n",
       "      <td>0</td>\n",
       "      <td>1</td>\n",
       "    </tr>\n",
       "    <tr>\n",
       "      <th>1</th>\n",
       "      <td>0</td>\n",
       "      <td>1</td>\n",
       "    </tr>\n",
       "    <tr>\n",
       "      <th>2</th>\n",
       "      <td>0</td>\n",
       "      <td>0</td>\n",
       "    </tr>\n",
       "    <tr>\n",
       "      <th>3</th>\n",
       "      <td>0</td>\n",
       "      <td>0</td>\n",
       "    </tr>\n",
       "    <tr>\n",
       "      <th>4</th>\n",
       "      <td>0</td>\n",
       "      <td>0</td>\n",
       "    </tr>\n",
       "    <tr>\n",
       "      <th>...</th>\n",
       "      <td>...</td>\n",
       "      <td>...</td>\n",
       "    </tr>\n",
       "    <tr>\n",
       "      <th>19995</th>\n",
       "      <td>1</td>\n",
       "      <td>0</td>\n",
       "    </tr>\n",
       "    <tr>\n",
       "      <th>19996</th>\n",
       "      <td>1</td>\n",
       "      <td>0</td>\n",
       "    </tr>\n",
       "    <tr>\n",
       "      <th>19997</th>\n",
       "      <td>1</td>\n",
       "      <td>1</td>\n",
       "    </tr>\n",
       "    <tr>\n",
       "      <th>19998</th>\n",
       "      <td>1</td>\n",
       "      <td>1</td>\n",
       "    </tr>\n",
       "    <tr>\n",
       "      <th>19999</th>\n",
       "      <td>1</td>\n",
       "      <td>1</td>\n",
       "    </tr>\n",
       "  </tbody>\n",
       "</table>\n",
       "<p>20000 rows × 2 columns</p>\n",
       "</div>"
      ],
      "text/plain": [
       "       treatment  value\n",
       "0              0      1\n",
       "1              0      1\n",
       "2              0      0\n",
       "3              0      0\n",
       "4              0      0\n",
       "...          ...    ...\n",
       "19995          1      0\n",
       "19996          1      0\n",
       "19997          1      1\n",
       "19998          1      1\n",
       "19999          1      1\n",
       "\n",
       "[20000 rows x 2 columns]"
      ]
     },
     "execution_count": 19,
     "metadata": {},
     "output_type": "execute_result"
    }
   ],
   "source": [
    "\n",
    "baseline_conversion=0.3\n",
    "delta=0.02\n",
    "n_samples=10000\n",
    "\n",
    "simulated_data=simulate_experiment_data(baseline_conversion=baseline_conversion, delta=delta, n_samples=n_samples)\n",
    "simulated_data\n"
   ]
  },
  {
   "cell_type": "code",
   "execution_count": 20,
   "id": "2891dad7",
   "metadata": {},
   "outputs": [
    {
     "name": "stdout",
     "output_type": "stream",
     "text": [
      "2977 3185\n",
      " For above experiment setting: \n",
      "    You get\n",
      "    \t p_value: 0.0014449233375682811,\n",
      "    \t test-statistic: 3.1855235689241055,\n",
      "    \t delta: 0.020799999999999985 with CI(95.0%):[0.008002338957359504 <--> 0.03359766104264047]\n"
     ]
    }
   ],
   "source": [
    "alpha=0.05\n",
    "tail_dropdown=\"two_tailed\"\n",
    "N_control=n_samples\n",
    "N_treatment= n_samples\n",
    "\n",
    "N_control_pos=len(simulated_data[((simulated_data[\"treatment\"]==0) &(simulated_data[\"value\"]==1) )])\n",
    "N_treatment_pos=len(simulated_data[((simulated_data[\"treatment\"]==1) &(simulated_data[\"value\"]==1) )])\n",
    "\n",
    "print(N_control_pos,N_treatment_pos)\n",
    "post_experiment_analysis_continuous(alpha, N_control, N_treatment, N_control_pos, N_treatment_pos, tail_dropdown)"
   ]
  },
  {
   "cell_type": "markdown",
   "id": "92f2c46a",
   "metadata": {},
   "source": [
    "there p value is lesser than 0.05 hence reject null hypotheses which is basically reject that there is no change in treatment and control (here we forcefuly did it because we synthetically created the data with delta of .02 in treatment)\n"
   ]
  },
  {
   "cell_type": "code",
   "execution_count": null,
   "id": "d90527ae",
   "metadata": {},
   "outputs": [],
   "source": []
  }
 ],
 "metadata": {
  "kernelspec": {
   "display_name": "Python 3 (ipykernel)",
   "language": "python",
   "name": "python3"
  },
  "language_info": {
   "codemirror_mode": {
    "name": "ipython",
    "version": 3
   },
   "file_extension": ".py",
   "mimetype": "text/x-python",
   "name": "python",
   "nbconvert_exporter": "python",
   "pygments_lexer": "ipython3",
   "version": "3.11.5"
  },
  "toc": {
   "base_numbering": 1,
   "nav_menu": {},
   "number_sections": true,
   "sideBar": true,
   "skip_h1_title": false,
   "title_cell": "Table of Contents",
   "title_sidebar": "Contents",
   "toc_cell": false,
   "toc_position": {
    "height": "calc(100% - 180px)",
    "left": "10px",
    "top": "150px",
    "width": "307.194px"
   },
   "toc_section_display": true,
   "toc_window_display": false
  }
 },
 "nbformat": 4,
 "nbformat_minor": 5
}
