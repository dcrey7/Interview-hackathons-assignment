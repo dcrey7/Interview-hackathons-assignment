{
 "cells": [
  {
   "cell_type": "code",
   "execution_count": 15,
   "id": "d9dc49e5",
   "metadata": {},
   "outputs": [],
   "source": [
    "import warnings\n",
    "warnings.filterwarnings('ignore')"
   ]
  },
  {
   "cell_type": "code",
   "execution_count": 18,
   "id": "ed92b72f",
   "metadata": {},
   "outputs": [],
   "source": [
    "from scipy.stats import norm\n",
    "import numpy as np\n",
    "\n",
    "class BinomialSatherwaiteSampleSize:\n",
    "    def __init__(self,baseline_conversion, delta, alpha=0.05, beta=0.2, tailed=\"two_tailed\"):\n",
    "        self.baseline_conversion=baseline_conversion\n",
    "        self.delta=delta\n",
    "        self.alpha=alpha\n",
    "        self.beta=beta\n",
    "        self.treatment_conversion=self.baseline_conversion+self.delta\n",
    "        self.tailed=tailed\n",
    "#         print(self.baseline_conversion, self.delta, self.beta )\n",
    "    def get_sample_size(self):\n",
    "        control_variance=self.baseline_conversion*(1-self.baseline_conversion)\n",
    "        treatment_variance=self.treatment_conversion*(1-self.treatment_conversion)\n",
    "\n",
    "        if self.tailed==\"two_tailed\":\n",
    "            control_zscore=norm.ppf(1-self.alpha/2)\n",
    "        elif self.tailed==\"one_tailed\":\n",
    "            control_zscore=norm.ppf(1-self.alpha)\n",
    "        else:\n",
    "            raise Exception(\"Wrong input for tailed, select one of [one_tailed,two_tailed]\")\n",
    "\n",
    "        treatment_zscore=norm.ppf(1-self.beta)\n",
    "        sample_size=int(np.rint(np.power((control_zscore*np.sqrt(2*control_variance) + treatment_zscore*np.sqrt(control_variance + treatment_variance)), 2)/np.power(self.delta,2)))\n",
    "        return sample_size\n",
    "  \n",
    "  \n",
    "class BinomialPooledSampleSize:\n",
    "    def __init__(self,baseline_conversion, delta, alpha=0.05, beta=0.2, tailed=\"two_tailed\"):\n",
    "        self.baseline_conversion=baseline_conversion\n",
    "        self.delta=delta\n",
    "        self.alpha=alpha\n",
    "        self.beta=beta\n",
    "        self.treatment_conversion=self.baseline_conversion+self.delta\n",
    "        self.tailed=tailed\n",
    "    def get_sample_size(self):\n",
    "        pooled_conversion=(self.baseline_conversion+ self.treatment_conversion)/2\n",
    "        pooled_variance=pooled_conversion*(1-pooled_conversion)\n",
    "\n",
    "        if self.tailed==\"two_tailed\":\n",
    "            control_zscore=norm.ppf(1-self.alpha/2)\n",
    "        elif self.tailed==\"one_tailed\":\n",
    "            control_zscore=norm.ppf(1-self.alpha)\n",
    "        else:\n",
    "            raise Exception(\"Wrong input for tailed, select one of [one_tailed,two_tailed]\")\n",
    "        treatment_zscore=norm.ppf(1-self.beta)\n",
    "        sample_size=int(np.rint(2*pooled_variance*np.power((control_zscore + treatment_zscore), 2)/np.power(self.delta,2)))\n",
    "        return sample_size\n",
    "\n",
    "class ContinuousSampleSize:\n",
    "    def __init__(self,baseline_mean, baseline_std, delta, alpha=0.05, beta=0.2, tailed=\"two_tailed\"):\n",
    "        self.baseline_mean=baseline_mean\n",
    "        self.baseline_std=baseline_std\n",
    "        self.delta=delta\n",
    "        self.alpha=alpha\n",
    "        self.beta=beta\n",
    "        self.treatment_mean=self.baseline_mean+self.delta\n",
    "        self.tailed=tailed\n",
    "    \n",
    "    def get_sample_size(self):\n",
    "        treatment_mean=self.baseline_mean+ self.delta\n",
    "        if self.tailed==\"two_tailed\":\n",
    "            control_zscore=norm.ppf(1-self.alpha/2)\n",
    "        elif self.tailed==\"one_tailed\":\n",
    "            control_zscore=norm.ppf(1-self.alpha)\n",
    "        else:\n",
    "            raise Exception(\"Wrong input for tailed, select one of [one_tailed,two_tailed]\")\n",
    "        treatment_zscore=norm.ppf(1-self.beta)\n",
    "\n",
    "        sample_size=int(np.rint(2*self.baseline_std*self.baseline_std*np.power((control_zscore + treatment_zscore), 2)/np.power(self.delta,2)))\n",
    "        return sample_size\n"
   ]
  },
  {
   "cell_type": "code",
   "execution_count": 17,
   "id": "1541afc7",
   "metadata": {},
   "outputs": [
    {
     "data": {
      "application/vnd.jupyter.widget-view+json": {
       "model_id": "21ba41d52c5642c0b3f141ad4cfdf572",
       "version_major": 2,
       "version_minor": 0
      },
      "text/plain": [
       "interactive(children=(IntSlider(value=100, description='N_simulation', max=1000, min=1, step=5, style=SliderSt…"
      ]
     },
     "metadata": {},
     "output_type": "display_data"
    }
   ],
   "source": [
    "import matplotlib.pyplot as plt\n",
    "import seaborn as sns\n",
    "import numpy as np\n",
    "from ipywidgets import interact, widgets\n",
    "\n",
    "# Define the interactive widgets\n",
    "N_simulation = widgets.IntSlider(min=1, max=1000, step=5, value=100, description='N_simulation', style={'description_width': 'initial'})\n",
    "sample_size = widgets.IntSlider(min=1, max=1000, step=5, value=100, description='sample_size', style={'description_width': 'initial'})\n",
    "low = widgets.IntSlider(min=0, max=100, step=1, value=0, description='low', style={'description_width': 'initial'})\n",
    "high = widgets.IntSlider(min=1, max=100, step=1, value=1, description='high', style={'description_width': 'initial'})\n",
    "\n",
    "# Define the CLT simulation function\n",
    "@interact(N_simulation=N_simulation, sample_size=sample_size, low=low, high=high)\n",
    "def CLT_simulation(N_simulation, sample_size, low, high):\n",
    "    mean_list = []\n",
    "    for x in range(N_simulation):\n",
    "        data = np.random.uniform(low=low, high=high, size=sample_size)\n",
    "        mean_list.append(np.mean(data))\n",
    "        \n",
    "    ax1 = sns.distplot(mean_list, hist=False)\n",
    "    plt.title('CLT')\n",
    "    plt.xlabel('Sample mean')\n",
    "    plt.ylabel('Density')\n",
    "\n",
    "# Show the interactive plot\n",
    "plt.show()\n"
   ]
  },
  {
   "cell_type": "code",
   "execution_count": 19,
   "id": "5156d14a",
   "metadata": {},
   "outputs": [
    {
     "data": {
      "application/vnd.jupyter.widget-view+json": {
       "model_id": "34f2713af4e4491397cd5c60ea2f8d13",
       "version_major": 2,
       "version_minor": 0
      },
      "text/plain": [
       "interactive(children=(FloatSlider(value=0.05, description='alpha', max=1.0, min=0.01, step=0.01, style=SliderS…"
      ]
     },
     "metadata": {},
     "output_type": "display_data"
    }
   ],
   "source": [
    "alpha = widgets.FloatSlider(min=0.01, max=1, step=0.01, value=0.05, description='alpha',style= {'description_width': 'initial'})\n",
    "beta = widgets.FloatSlider(min=0.01, max=1, step=0.01, value=0.2, description='beta',style= {'description_width': 'initial'})\n",
    "baseline_conversion = widgets.FloatSlider(min=0.01, max=1, step=0.01, value=0.3, description='baseline_conversion',style= {'description_width': 'initial'})\n",
    "delta = widgets.FloatSlider(min=0.01, max=1, step=0.01, value=0.02, description='absolute delta', style= {'description_width': 'initial'})\n",
    "\n",
    "tail_dropdown = widgets.Dropdown(\n",
    "    options= [\"one_tailed\", \"two_tailed\"],\n",
    "    index=1,           \n",
    "    disabled=False,        \n",
    "    description='experiment_type'  ,style= {'description_width': 'initial'}\n",
    ")\n",
    "\n",
    "\n",
    "# Specifying the handler for the argument in the function\n",
    "@interact(alpha = alpha, beta = beta, baseline_conversion=baseline_conversion,\n",
    "          delta=delta, tail_dropdown=tail_dropdown )\n",
    "def proportion_sample_size_calculator(alpha, beta , baseline_conversion,\n",
    "          delta, tail_dropdown):\n",
    "  \n",
    "    ss_calculator=BinomialSatherwaiteSampleSize(baseline_conversion, delta, alpha=alpha, beta=beta, tailed=tail_dropdown)\n",
    "    sample_size=ss_calculator.get_sample_size()\n",
    "    print(f'''At alpha:{alpha}, beta: {beta}, baseline_conversion: {baseline_conversion}, absolute_delta:{delta}\n",
    "          You will need {sample_size} samples per variation''')\n",
    "    "
   ]
  },
  {
   "cell_type": "code",
   "execution_count": 21,
   "id": "52d55e85",
   "metadata": {},
   "outputs": [
    {
     "data": {
      "application/vnd.jupyter.widget-view+json": {
       "model_id": "ffc2c11b61934b0fbd88585838e499d2",
       "version_major": 2,
       "version_minor": 0
      },
      "text/plain": [
       "interactive(children=(FloatSlider(value=0.05, description='alpha', max=1.0, min=0.01, step=0.01, style=SliderS…"
      ]
     },
     "metadata": {},
     "output_type": "display_data"
    }
   ],
   "source": [
    "alpha = widgets.FloatSlider(min=0.01, max=1, step=0.01, value=0.05, description='alpha',style= {'description_width': 'initial'})\n",
    "beta = widgets.FloatSlider(min=0.01, max=1, step=0.01, value=0.2, description='beta',style= {'description_width': 'initial'})\n",
    "baseline_mean = widgets.IntSlider(min=1, max=100, step=1, value=50, description='baseline_mean',style= {'description_width': 'initial'})\n",
    "baseline_std = widgets.IntSlider(min=1, max=1000, step=1, value=5, description='baseline_std',style= {'description_width': 'initial'})\n",
    "delta = widgets.FloatSlider(min=1, max=100, step=1, value=5, description='absolute delta', style= {'description_width': 'initial'})\n",
    "\n",
    "tail_dropdown = widgets.Dropdown(\n",
    "    options= [\"one_tailed\", \"two_tailed\"],\n",
    "    index=1,           \n",
    "    disabled=False,        \n",
    "    description='hypothesis_type'  ,style= {'description_width': 'initial'}\n",
    ")\n",
    "\n",
    "\n",
    "# Specifying the handler for the argument in the function\n",
    "@interact(alpha = alpha, beta = beta, baseline_mean=baseline_mean, baseline_std=baseline_std,\n",
    "          delta=delta, tail_dropdown=tail_dropdown )\n",
    "def proportion_sample_size_calculator(alpha, beta , baseline_mean,baseline_std,\n",
    "          delta, tail_dropdown):\n",
    "  \n",
    "    ss_calculator=ContinuousSampleSize(baseline_mean, baseline_std, delta, alpha=alpha, beta=beta, tailed=tail_dropdown)\n",
    "    sample_size=ss_calculator.get_sample_size()\n",
    "    print(f'''At alpha:{alpha}, beta: {beta}, baseline_mean: {baseline_mean}, baseline_std: {baseline_std} , absolute_delta:{delta}, hypothesis_type:{tail_dropdown}\n",
    "          You will need {sample_size} samples per variation''')\n",
    "    "
   ]
  },
  {
   "cell_type": "code",
   "execution_count": 20,
   "id": "5d36180d",
   "metadata": {},
   "outputs": [
    {
     "data": {
      "application/vnd.jupyter.widget-view+json": {
       "model_id": "1ab187975ee5410cb8d531ea05d4b4e9",
       "version_major": 2,
       "version_minor": 0
      },
      "text/plain": [
       "interactive(children=(FloatSlider(value=0.05, description='Significance level', max=1.0, min=0.01, step=0.01, …"
      ]
     },
     "metadata": {},
     "output_type": "display_data"
    }
   ],
   "source": [
    "alpha = widgets.FloatSlider(min=0.01, max=1, step=0.01, value=0.05, description='Significance level',style= {'description_width': 'initial'})\n",
    "\n",
    "control_mean = widgets.IntSlider(min=1, max=100, step=1, value=50, description='control_mean')\n",
    "treatment_mean = widgets.IntSlider(min=1, max=100, step=1, value=65, description='treatment_mean', style= {'description_width': 'initial'})\n",
    "\n",
    "control_std = widgets.IntSlider(min=1, max=100, step=1, value=5, description='control_std', style= {'description_width': 'initial'})\n",
    "treatment_std = widgets.IntSlider(min=1, max=100, step=1, value=5,  description='treatment_std', style= {'description_width': 'initial'})\n",
    "\n",
    "control_sample_size = widgets.IntSlider(min=50, max=100000, step=50, value=1000,  description='control_sample_size', style= {'description_width': 'initial'})\n",
    "treatment_sample_size = widgets.IntSlider(min=50, max=100000, step=50, value=1000,  description='treatment_sample_size', style= {'description_width': 'initial'})\n",
    "\n",
    "# Specifying the handler for the n argument in the function\n",
    "@interact(alpha=alpha,control_mean = control_mean, treatment_mean = treatment_mean, control_std=control_std,\n",
    "          treatment_std=treatment_std, control_sample_size=control_sample_size, \n",
    "          treatment_sample_size=treatment_sample_size )\n",
    "def plot_random_scatterplot(alpha, control_mean, treatment_mean,control_std, treatment_std, control_sample_size, treatment_sample_size):\n",
    "  \n",
    "   \n",
    "    control_data = np.random.normal(loc=control_mean, scale=control_std, size=control_sample_size)\n",
    "    treatment_data = np.random.normal(loc=treatment_mean, scale=treatment_std, size=treatment_sample_size)\n",
    "#     bins = int(np.sqrt(len(control_data)))\n",
    "    ax1=sns.distplot(control_data , hist=False )\n",
    "    ax2=sns.distplot(treatment_data, hist=False)\n",
    "    kde_x1, kde_y1 = ax1.lines[0].get_data()\n",
    "    kde_x2, kde_y2 = ax2.lines[1].get_data()\n",
    "#     print(kde_y1,kde_y2)\n",
    "    #plotting the two lines\n",
    "    \n",
    "#     poi1,poi2=find_intersection_points(ax1, ax2,control_mean)\n",
    "\n",
    "    poi1= np.mean(control_data)+norm.ppf(1-alpha)*np.std(control_data)\n",
    "#     print(poi1,poi2)\n",
    "#     x0=40\n",
    "#     \n",
    "\n",
    "    if poi1!=None:\n",
    "        p1 = plt.axvline(x=poi1,color='#EF9A9A')\n",
    "#         p2 = plt.axvline(x=poi2,color='#EF9A9A')\n",
    "        \n",
    "        ax1.fill_between(kde_x1, kde_y1, where=(kde_x1>poi1) , \n",
    "                        interpolate=True, color='#EF9A9A')\n",
    "        \n",
    "        ax2.fill_between(kde_x2, kde_y2, where=((kde_x2<poi1)) , \n",
    "                        interpolate=True, color='#0F9A9A')\n",
    "\n",
    "    plt.title('Control vs Treatment sampled mean distribution')\n",
    "    plt.xlabel('data')\n",
    "    plt.ylabel('density')"
   ]
  },
  {
   "cell_type": "code",
   "execution_count": null,
   "id": "4b140f3e",
   "metadata": {},
   "outputs": [],
   "source": []
  }
 ],
 "metadata": {
  "kernelspec": {
   "display_name": "Python 3 (ipykernel)",
   "language": "python",
   "name": "python3"
  },
  "language_info": {
   "codemirror_mode": {
    "name": "ipython",
    "version": 3
   },
   "file_extension": ".py",
   "mimetype": "text/x-python",
   "name": "python",
   "nbconvert_exporter": "python",
   "pygments_lexer": "ipython3",
   "version": "3.11.5"
  },
  "toc": {
   "base_numbering": 1,
   "nav_menu": {},
   "number_sections": true,
   "sideBar": true,
   "skip_h1_title": false,
   "title_cell": "Table of Contents",
   "title_sidebar": "Contents",
   "toc_cell": false,
   "toc_position": {},
   "toc_section_display": true,
   "toc_window_display": false
  }
 },
 "nbformat": 4,
 "nbformat_minor": 5
}
