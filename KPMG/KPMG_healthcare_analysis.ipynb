{
 "cells": [
  {
   "cell_type": "code",
   "execution_count": 1,
   "id": "fbd94cc3",
   "metadata": {},
   "outputs": [],
   "source": [
    "import pandas as pd \n",
    "import numpy as np\n",
    "pd.set_option('display.max_rows',150000)\n",
    "pd.set_option('display.max_columns',500)"
   ]
  },
  {
   "cell_type": "code",
   "execution_count": 2,
   "id": "d3f8cc3f",
   "metadata": {},
   "outputs": [
    {
     "data": {
      "text/html": [
       "<div>\n",
       "<style scoped>\n",
       "    .dataframe tbody tr th:only-of-type {\n",
       "        vertical-align: middle;\n",
       "    }\n",
       "\n",
       "    .dataframe tbody tr th {\n",
       "        vertical-align: top;\n",
       "    }\n",
       "\n",
       "    .dataframe thead th {\n",
       "        text-align: right;\n",
       "    }\n",
       "</style>\n",
       "<table border=\"1\" class=\"dataframe\">\n",
       "  <thead>\n",
       "    <tr style=\"text-align: right;\">\n",
       "      <th></th>\n",
       "      <th>case_id</th>\n",
       "      <th>Hospital_code</th>\n",
       "      <th>Hospital_type_code</th>\n",
       "      <th>City_Code_Hospital</th>\n",
       "      <th>Hospital_region_code</th>\n",
       "      <th>Available Extra Rooms in Hospital</th>\n",
       "      <th>Department</th>\n",
       "      <th>Ward_Type</th>\n",
       "      <th>Ward_Facility_Code</th>\n",
       "      <th>Bed Grade</th>\n",
       "      <th>patientid</th>\n",
       "      <th>City_Code_Patient</th>\n",
       "      <th>Type of Admission</th>\n",
       "      <th>Severity of Illness</th>\n",
       "      <th>Visitors with Patient</th>\n",
       "      <th>Age</th>\n",
       "      <th>Admission_Deposit</th>\n",
       "      <th>Stay</th>\n",
       "    </tr>\n",
       "  </thead>\n",
       "  <tbody>\n",
       "    <tr>\n",
       "      <th>0</th>\n",
       "      <td>1</td>\n",
       "      <td>8</td>\n",
       "      <td>c</td>\n",
       "      <td>3</td>\n",
       "      <td>Z</td>\n",
       "      <td>3</td>\n",
       "      <td>radiotherapy</td>\n",
       "      <td>R</td>\n",
       "      <td>F</td>\n",
       "      <td>2.0</td>\n",
       "      <td>31397</td>\n",
       "      <td>7.0</td>\n",
       "      <td>Emergency</td>\n",
       "      <td>Extreme</td>\n",
       "      <td>2</td>\n",
       "      <td>51-60</td>\n",
       "      <td>4911</td>\n",
       "      <td>0-10</td>\n",
       "    </tr>\n",
       "    <tr>\n",
       "      <th>1</th>\n",
       "      <td>2</td>\n",
       "      <td>2</td>\n",
       "      <td>c</td>\n",
       "      <td>5</td>\n",
       "      <td>Z</td>\n",
       "      <td>2</td>\n",
       "      <td>radiotherapy</td>\n",
       "      <td>S</td>\n",
       "      <td>F</td>\n",
       "      <td>2.0</td>\n",
       "      <td>31397</td>\n",
       "      <td>7.0</td>\n",
       "      <td>Trauma</td>\n",
       "      <td>Extreme</td>\n",
       "      <td>2</td>\n",
       "      <td>51-60</td>\n",
       "      <td>5954</td>\n",
       "      <td>41-50</td>\n",
       "    </tr>\n",
       "    <tr>\n",
       "      <th>2</th>\n",
       "      <td>3</td>\n",
       "      <td>10</td>\n",
       "      <td>e</td>\n",
       "      <td>1</td>\n",
       "      <td>X</td>\n",
       "      <td>2</td>\n",
       "      <td>anesthesia</td>\n",
       "      <td>S</td>\n",
       "      <td>E</td>\n",
       "      <td>2.0</td>\n",
       "      <td>31397</td>\n",
       "      <td>7.0</td>\n",
       "      <td>Trauma</td>\n",
       "      <td>Extreme</td>\n",
       "      <td>2</td>\n",
       "      <td>51-60</td>\n",
       "      <td>4745</td>\n",
       "      <td>31-40</td>\n",
       "    </tr>\n",
       "    <tr>\n",
       "      <th>3</th>\n",
       "      <td>4</td>\n",
       "      <td>26</td>\n",
       "      <td>b</td>\n",
       "      <td>2</td>\n",
       "      <td>Y</td>\n",
       "      <td>2</td>\n",
       "      <td>radiotherapy</td>\n",
       "      <td>R</td>\n",
       "      <td>D</td>\n",
       "      <td>2.0</td>\n",
       "      <td>31397</td>\n",
       "      <td>7.0</td>\n",
       "      <td>Trauma</td>\n",
       "      <td>Extreme</td>\n",
       "      <td>2</td>\n",
       "      <td>51-60</td>\n",
       "      <td>7272</td>\n",
       "      <td>41-50</td>\n",
       "    </tr>\n",
       "    <tr>\n",
       "      <th>4</th>\n",
       "      <td>5</td>\n",
       "      <td>26</td>\n",
       "      <td>b</td>\n",
       "      <td>2</td>\n",
       "      <td>Y</td>\n",
       "      <td>2</td>\n",
       "      <td>radiotherapy</td>\n",
       "      <td>S</td>\n",
       "      <td>D</td>\n",
       "      <td>2.0</td>\n",
       "      <td>31397</td>\n",
       "      <td>7.0</td>\n",
       "      <td>Trauma</td>\n",
       "      <td>Extreme</td>\n",
       "      <td>2</td>\n",
       "      <td>51-60</td>\n",
       "      <td>5558</td>\n",
       "      <td>41-50</td>\n",
       "    </tr>\n",
       "  </tbody>\n",
       "</table>\n",
       "</div>"
      ],
      "text/plain": [
       "   case_id  Hospital_code Hospital_type_code  City_Code_Hospital  \\\n",
       "0        1              8                  c                   3   \n",
       "1        2              2                  c                   5   \n",
       "2        3             10                  e                   1   \n",
       "3        4             26                  b                   2   \n",
       "4        5             26                  b                   2   \n",
       "\n",
       "  Hospital_region_code  Available Extra Rooms in Hospital    Department  \\\n",
       "0                    Z                                  3  radiotherapy   \n",
       "1                    Z                                  2  radiotherapy   \n",
       "2                    X                                  2    anesthesia   \n",
       "3                    Y                                  2  radiotherapy   \n",
       "4                    Y                                  2  radiotherapy   \n",
       "\n",
       "  Ward_Type Ward_Facility_Code  Bed Grade  patientid  City_Code_Patient  \\\n",
       "0         R                  F        2.0      31397                7.0   \n",
       "1         S                  F        2.0      31397                7.0   \n",
       "2         S                  E        2.0      31397                7.0   \n",
       "3         R                  D        2.0      31397                7.0   \n",
       "4         S                  D        2.0      31397                7.0   \n",
       "\n",
       "  Type of Admission Severity of Illness  Visitors with Patient    Age  \\\n",
       "0         Emergency             Extreme                      2  51-60   \n",
       "1            Trauma             Extreme                      2  51-60   \n",
       "2            Trauma             Extreme                      2  51-60   \n",
       "3            Trauma             Extreme                      2  51-60   \n",
       "4            Trauma             Extreme                      2  51-60   \n",
       "\n",
       "   Admission_Deposit   Stay  \n",
       "0               4911   0-10  \n",
       "1               5954  41-50  \n",
       "2               4745  31-40  \n",
       "3               7272  41-50  \n",
       "4               5558  41-50  "
      ]
     },
     "execution_count": 2,
     "metadata": {},
     "output_type": "execute_result"
    }
   ],
   "source": [
    "df=pd.read_csv('2de5d338-216a-4cfb-b466-6fc16cecd233-Bonaventure---Healthcare-data.csv')\n",
    "df.head()"
   ]
  },
  {
   "cell_type": "code",
   "execution_count": 3,
   "id": "d1cf6b4b",
   "metadata": {},
   "outputs": [
    {
     "data": {
      "text/plain": [
       "(149999, 18)"
      ]
     },
     "execution_count": 3,
     "metadata": {},
     "output_type": "execute_result"
    }
   ],
   "source": [
    "df.shape"
   ]
  },
  {
   "cell_type": "code",
   "execution_count": 4,
   "id": "b0a7c8ff",
   "metadata": {},
   "outputs": [
    {
     "data": {
      "text/plain": [
       "21-30                 42732\n",
       "20-Nov                34375\n",
       "31-40                 26455\n",
       "51-60                 17656\n",
       "0-10                   9589\n",
       "41-50                  5509\n",
       "71-80                  5229\n",
       "More than 100 Days     3275\n",
       "81-90                  2490\n",
       "91-100                 1382\n",
       "61-70                  1307\n",
       "Name: Stay, dtype: int64"
      ]
     },
     "execution_count": 4,
     "metadata": {},
     "output_type": "execute_result"
    }
   ],
   "source": [
    "df['Stay'].value_counts()"
   ]
  },
  {
   "cell_type": "code",
   "execution_count": 5,
   "id": "99a97d50",
   "metadata": {},
   "outputs": [
    {
     "data": {
      "text/plain": [
       "41-50     30500\n",
       "31-40     30498\n",
       "51-60     23575\n",
       "71-80     18844\n",
       "21-30     17386\n",
       "61-70     16938\n",
       "20-Nov     5705\n",
       "81-90      4226\n",
       "0-10       1691\n",
       "91-100      636\n",
       "Name: Age, dtype: int64"
      ]
     },
     "execution_count": 5,
     "metadata": {},
     "output_type": "execute_result"
    }
   ],
   "source": [
    "df['Age'].value_counts()"
   ]
  },
  {
   "cell_type": "code",
   "execution_count": 6,
   "id": "012d45c3",
   "metadata": {},
   "outputs": [
    {
     "data": {
      "text/plain": [
       "3    76546\n",
       "2    56389\n",
       "1    17064\n",
       "Name: Type of Admission_new, dtype: int64"
      ]
     },
     "execution_count": 6,
     "metadata": {},
     "output_type": "execute_result"
    }
   ],
   "source": [
    "b_type_map = {\"Urgent\": 1,\"Emergency\": 2, \"Trauma\": 3}\n",
    "df['Type of Admission_new'] = df['Type of Admission'].map(b_type_map)\n",
    "df['Type of Admission_new'].value_counts()"
   ]
  },
  {
   "cell_type": "code",
   "execution_count": 7,
   "id": "37ea094b",
   "metadata": {},
   "outputs": [
    {
     "data": {
      "text/plain": [
       "2    86056\n",
       "1    32700\n",
       "3    31243\n",
       "Name: Severity of Illness_new, dtype: int64"
      ]
     },
     "execution_count": 7,
     "metadata": {},
     "output_type": "execute_result"
    }
   ],
   "source": [
    "b_type_map = {\"Minor\": 1,\"Moderate\": 2, \"Extreme\": 3}\n",
    "df['Severity of Illness_new'] = df['Severity of Illness'].map(b_type_map)\n",
    "df['Severity of Illness_new'].value_counts()"
   ]
  },
  {
   "cell_type": "code",
   "execution_count": 8,
   "id": "8a7448a0",
   "metadata": {},
   "outputs": [
    {
     "data": {
      "text/plain": [
       "45    30500\n",
       "35    30498\n",
       "55    23575\n",
       "75    18844\n",
       "25    17386\n",
       "65    16938\n",
       "15     5705\n",
       "85     4226\n",
       "5      1691\n",
       "95      636\n",
       "Name: Age_new, dtype: int64"
      ]
     },
     "execution_count": 8,
     "metadata": {},
     "output_type": "execute_result"
    }
   ],
   "source": [
    "b_type_map = {\"0-10\": 5,\"20-Nov\": 15, \"21-30\": 25, \"31-40\": 35, \"41-50\": 45, \"51-60\": 55, \"61-70\": 65,\"71-80\": 75,\"81-90\": 85,\"91-100\": 95}\n",
    "df['Age_new'] = df['Age'].map(b_type_map)\n",
    "df['Age_new'].value_counts()"
   ]
  },
  {
   "cell_type": "code",
   "execution_count": 9,
   "id": "8eea4e07",
   "metadata": {},
   "outputs": [
    {
     "data": {
      "text/plain": [
       "2     42732\n",
       "1     34375\n",
       "3     26455\n",
       "5     17656\n",
       "0      9589\n",
       "4      5509\n",
       "7      5229\n",
       "10     3275\n",
       "8      2490\n",
       "9      1382\n",
       "6      1307\n",
       "Name: Stay_new, dtype: int64"
      ]
     },
     "execution_count": 9,
     "metadata": {},
     "output_type": "execute_result"
    }
   ],
   "source": [
    "b_type_map = {\"0-10\": 0,\"20-Nov\": 1, \"21-30\": 2, \"31-40\": 3, \"41-50\": 4, \"51-60\": 5, \"61-70\": 6,\"71-80\": 7,\"81-90\": 8,\"91-100\": 9,\"More than 100 Days\": 10}\n",
    "df['Stay_new'] = df['Stay'].map(b_type_map)\n",
    "df['Stay_new'].value_counts()"
   ]
  },
  {
   "cell_type": "code",
   "execution_count": 10,
   "id": "f0d7e8c0",
   "metadata": {},
   "outputs": [
    {
     "data": {
      "text/plain": [
       "Text(0.5, 1.0, 'Missing Values by column')"
      ]
     },
     "execution_count": 10,
     "metadata": {},
     "output_type": "execute_result"
    },
    {
     "data": {
      "image/png": "[encoded data removed]",
      "text/plain": [
       "<Figure size 1080x360 with 1 Axes>"
      ]
     },
     "metadata": {
      "needs_background": "light"
     },
     "output_type": "display_data"
    }
   ],
   "source": [
    "from matplotlib import pyplot as plt\n",
    "import seaborn as sns\n",
    "plt.figure(figsize=(15,5))\n",
    "sns.heatmap(df.isnull(), cbar = False, yticklabels=False, cmap=\"viridis\" )\n",
    "plt.title('Missing Values by column')"
   ]
  },
  {
   "cell_type": "code",
   "execution_count": 11,
   "id": "e971cb56",
   "metadata": {},
   "outputs": [
    {
     "data": {
      "text/plain": [
       "Index(['case_id', 'Hospital_code', 'Hospital_type_code', 'City_Code_Hospital',\n",
       "       'Hospital_region_code', 'Available Extra Rooms in Hospital',\n",
       "       'Department', 'Ward_Type', 'Ward_Facility_Code', 'Bed Grade',\n",
       "       'patientid', 'City_Code_Patient', 'Type of Admission',\n",
       "       'Severity of Illness', 'Visitors with Patient', 'Age',\n",
       "       'Admission_Deposit', 'Stay', 'Type of Admission_new',\n",
       "       'Severity of Illness_new', 'Age_new', 'Stay_new'],\n",
       "      dtype='object')"
      ]
     },
     "execution_count": 11,
     "metadata": {},
     "output_type": "execute_result"
    }
   ],
   "source": [
    "df.columns"
   ]
  },
  {
   "cell_type": "code",
   "execution_count": 12,
   "id": "4d5b7bd2",
   "metadata": {},
   "outputs": [
    {
     "data": {
      "text/plain": [
       "(149999, 22)"
      ]
     },
     "execution_count": 12,
     "metadata": {},
     "output_type": "execute_result"
    }
   ],
   "source": [
    "df.shape"
   ]
  },
  {
   "cell_type": "code",
   "execution_count": 13,
   "id": "08ca941d",
   "metadata": {},
   "outputs": [
    {
     "data": {
      "text/plain": [
       "(148090, 22)"
      ]
     },
     "execution_count": 13,
     "metadata": {},
     "output_type": "execute_result"
    }
   ],
   "source": [
    "df.dropna(axis=0,inplace=True)\n",
    "df.shape"
   ]
  },
  {
   "cell_type": "code",
   "execution_count": 14,
   "id": "7d1a2ba0",
   "metadata": {},
   "outputs": [],
   "source": [
    "predictors_df=df[['Admission_Deposit','Visitors with Patient','Available Extra Rooms in Hospital','Age_new','Severity of Illness_new', 'Type of Admission_new','Bed Grade']]\n",
    "target_val=df['Stay_new']        "
   ]
  },
  {
   "cell_type": "code",
   "execution_count": 15,
   "id": "0aa48ecb",
   "metadata": {},
   "outputs": [
    {
     "data": {
      "text/plain": [
       "Text(0.5, 1.0, 'Missing Values by column')"
      ]
     },
     "execution_count": 15,
     "metadata": {},
     "output_type": "execute_result"
    },
    {
     "data": {
      "image/png": "[encoded data removed]",
      "text/plain": [
       "<Figure size 1080x360 with 1 Axes>"
      ]
     },
     "metadata": {
      "needs_background": "light"
     },
     "output_type": "display_data"
    }
   ],
   "source": [
    "from matplotlib import pyplot as plt\n",
    "import seaborn as sns\n",
    "plt.figure(figsize=(15,5))\n",
    "sns.heatmap(predictors_df.isnull(), cbar = False, yticklabels=False, cmap=\"viridis\" )\n",
    "plt.title('Missing Values by column')"
   ]
  },
  {
   "cell_type": "code",
   "execution_count": 16,
   "id": "5344d0dc",
   "metadata": {},
   "outputs": [
    {
     "data": {
      "text/plain": [
       "Admission_Deposit                    0\n",
       "Visitors with Patient                0\n",
       "Available Extra Rooms in Hospital    0\n",
       "Age_new                              0\n",
       "Severity of Illness_new              0\n",
       "Type of Admission_new                0\n",
       "Bed Grade                            0\n",
       "dtype: int64"
      ]
     },
     "execution_count": 16,
     "metadata": {},
     "output_type": "execute_result"
    }
   ],
   "source": [
    "predictors_df.isna().sum()"
   ]
  },
  {
   "cell_type": "code",
   "execution_count": 17,
   "id": "fca4dafd",
   "metadata": {},
   "outputs": [],
   "source": [
    "from sklearn.model_selection import train_test_split\n",
    "train_predictors_val, test_predictors_val, train_target_val, test_target_val = train_test_split(predictors_df,\n",
    "                                                                                                target_val,\n",
    "                                                                                                test_size=0.2,\n",
    "                                                                                                )"
   ]
  },
  {
   "cell_type": "code",
   "execution_count": 18,
   "id": "7cb57ff8",
   "metadata": {},
   "outputs": [],
   "source": [
    "from sklearn.feature_selection import SelectKBest\n",
    "from sklearn.feature_selection import f_regression\n",
    "\n",
    "X = train_predictors_val  \n",
    "y = train_target_val"
   ]
  },
  {
   "cell_type": "code",
   "execution_count": 19,
   "id": "954b068e",
   "metadata": {
    "scrolled": true
   },
   "outputs": [
    {
     "data": {
      "image/png": "[encoded data removed]",
      "text/plain": [
       "<Figure size 2880x1800 with 1 Axes>"
      ]
     },
     "metadata": {
      "needs_background": "light"
     },
     "output_type": "display_data"
    }
   ],
   "source": [
    "from sklearn.ensemble import ExtraTreesRegressor\n",
    "\n",
    "model = ExtraTreesRegressor()\n",
    "model.fit(X,y)\n",
    "\n",
    "#plot graph of feature importances for better visualization\n",
    "fig, ax = plt.subplots(figsize=(40,25))\n",
    "feat_importances = pd.Series(model.feature_importances_, index=X.columns)\n",
    "feat_importances.nlargest(125).plot(kind='barh')\n",
    "feat_importancesdf=pd.DataFrame(model.feature_importances_)\n",
    "plt.show()"
   ]
  },
  {
   "cell_type": "code",
   "execution_count": null,
   "id": "12e9a3b6",
   "metadata": {},
   "outputs": [
    {
     "name": "stderr",
     "output_type": "stream",
     "text": [
      "C:\\ProgramData\\Anaconda3\\lib\\site-packages\\sklearn\\linear_model\\_logistic.py:763: ConvergenceWarning: lbfgs failed to converge (status=1):\n",
      "STOP: TOTAL NO. of ITERATIONS REACHED LIMIT.\n",
      "\n",
      "Increase the number of iterations (max_iter) or scale the data as shown in:\n",
      "    https://scikit-learn.org/stable/modules/preprocessing.html\n",
      "Please also refer to the documentation for alternative solver options:\n",
      "    https://scikit-learn.org/stable/modules/linear_model.html#logistic-regression\n",
      "  n_iter_i = _check_optimize_result(\n"
     ]
    }
   ],
   "source": [
    "import sklearn.model_selection as cv\n",
    "from sklearn.model_selection import cross_val_score, LeaveOneOut\n",
    "from sklearn.ensemble import RandomForestClassifier\n",
    "from sklearn.linear_model import LogisticRegression\n",
    "from sklearn.svm import SVC\n",
    "\n",
    "\n",
    "rfc=RandomForestClassifier()\n",
    "lre=LogisticRegression()\n",
    "svc=SVC()\n",
    "\n",
    "models = [rfc,lre,svc]\n",
    "\n",
    "for mod in models:\n",
    "    mod.fit(train_predictors_val, train_target_val)"
   ]
  },
  {
   "cell_type": "code",
   "execution_count": null,
   "id": "8409dad5",
   "metadata": {},
   "outputs": [],
   "source": [
    "from sklearn.metrics import precision_score\n",
    "from sklearn.metrics import recall_score\n",
    "from sklearn.metrics import f1_score\n"
   ]
  },
  {
   "cell_type": "code",
   "execution_count": null,
   "id": "637c1574",
   "metadata": {},
   "outputs": [],
   "source": [
    "final_p_scores = []\n",
    "\n",
    "# Sequentially fit all models and calculate test score\n",
    "for mod in models:\n",
    "    y_pred = mod.predict(test_predictors_val)\n",
    "    p_score= precision_score(test_target_val, y_pred)*100\n",
    "    final_p_scores.append(p_score)"
   ]
  },
  {
   "cell_type": "code",
   "execution_count": null,
   "id": "2537e5bf",
   "metadata": {},
   "outputs": [],
   "source": [
    "final_r_scores = []\n",
    "\n",
    "# Sequentially fit all models and calculate test score\n",
    "for mod in models:\n",
    "    y_pred = mod.predict(test_predictors_val)\n",
    "    r_score= recall_score(test_target_val, y_pred)\n",
    "    final_r_scores.append(r_score)"
   ]
  },
  {
   "cell_type": "code",
   "execution_count": null,
   "id": "e2237e19",
   "metadata": {},
   "outputs": [],
   "source": [
    "final_f1_scores = []\n",
    "\n",
    "# Sequentially fit all models and calculate test score\n",
    "for mod in models:\n",
    "    y_pred = mod.predict(test_predictors_val)\n",
    "    f1_score= f1_score(test_target_val, y_pred)\n",
    "    final_f1_scores.append(f1_score)"
   ]
  }
 ],
 "metadata": {
  "kernelspec": {
   "display_name": "Python 3 (ipykernel)",
   "language": "python",
   "name": "python3"
  },
  "language_info": {
   "codemirror_mode": {
    "name": "ipython",
    "version": 3
   },
   "file_extension": ".py",
   "mimetype": "text/x-python",
   "name": "python",
   "nbconvert_exporter": "python",
   "pygments_lexer": "ipython3",
   "version": "3.11.5"
  },
  "toc": {
   "base_numbering": 1,
   "nav_menu": {},
   "number_sections": true,
   "sideBar": true,
   "skip_h1_title": false,
   "title_cell": "Table of Contents",
   "title_sidebar": "Contents",
   "toc_cell": false,
   "toc_position": {},
   "toc_section_display": true,
   "toc_window_display": false
  }
 },
 "nbformat": 4,
 "nbformat_minor": 5
}
